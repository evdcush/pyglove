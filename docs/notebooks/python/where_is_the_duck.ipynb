{
  "cells": [
    {
      "cell_type": "markdown",
      "metadata": {
        "id": "YlipED8LKvYm"
      },
      "source": [
        "# \"Where is the Duck?\"\n",
        "\n",
        "[![Open in Colab](https://colab.research.google.com/assets/colab-badge.svg)](https://colab.research.google.com/github/google/pyglove/blob/main/docs/notebooks/python/where_is_the_duck.ipynb)\n",
        "\n",
        "This notebook illustrates how context-aware components can be developed in PyGlove.\n",
        "In this example, `Duck` is a symbolic class which subscribes the `_on_parent_change` and `_on_path_change` events. Therefore, when the containing context of a `Duck` object is changed, it can respond to such changes."
      ]
    },
    {
      "cell_type": "code",
      "execution_count": null,
      "metadata": {
        "id": "X8f4Pd8qwZMV"
      },
      "outputs": [],
      "source": [
        "!pip install pyglove"
      ]
    },
    {
      "cell_type": "code",
      "execution_count": 2,
      "metadata": {
        "executionInfo": {
          "elapsed": 632,
          "status": "ok",
          "timestamp": 1660957090220,
          "user": {
            "displayName": "",
            "userId": ""
          },
          "user_tz": 420
        },
        "id": "2aaFNrRYwbBQ"
      },
      "outputs": [],
      "source": [
        "import pyglove as pg"
      ]
    },
    {
      "cell_type": "code",
      "execution_count": 4,
      "metadata": {
        "executionInfo": {
          "elapsed": 109,
          "status": "ok",
          "timestamp": 1660957097464,
          "user": {
            "displayName": "",
            "userId": ""
          },
          "user_tz": 420
        },
        "id": "czs0O9aRKcTD"
      },
      "outputs": [],
      "source": [
        "@pg.members([\n",
        "   ('occupied_by', pg.typing.Any())\n",
        "])\n",
        "class Venue(pg.Object):\n",
        "  pass\n",
        "\n",
        "@pg.members([\n",
        "   ('size', pg.typing.Enum('small', ['small', 'large'])),\n",
        "   ('color', pg.typing.Enum('green', ['green', 'blue', 'black']))\n",
        "], init_arg_list=['occupied_by', 'size', 'color'])\n",
        "class Pool(Venue):\n",
        "  \n",
        "  def __str__(self):\n",
        "    return f'a {self.size} {self.color} pool'\n",
        "\n",
        "\n",
        "@pg.members([], init_arg_list=['occupied_by'])\n",
        "class Cage(Venue):\n",
        "\n",
        "  def __str__(self):\n",
        "    return f'a small cold cage'\n",
        "\n",
        "  def free(self):\n",
        "    self.rebind(occupied_by=None)\n",
        "\n",
        "class Duck(pg.Object):\n",
        "\n",
        "  def _on_parent_change(self, old_parent, new_parent):\n",
        "    super()._on_parent_change(old_parent, new_parent)\n",
        "    def venue(parent):\n",
        "      if isinstance(parent, Venue):\n",
        "        return str(parent)\n",
        "      return 'nowhere'\n",
        "    print(f'I am moving from {venue(old_parent)} '\n",
        "          f'to {venue(new_parent)}')\n",
        "  \n",
        "  def _on_path_change(self, old_path, new_path):\n",
        "    super()._on_path_change(old_path, new_path)\n",
        "    print(f'I am now identified by path \"{new_path}\"')\n",
        "\n",
        "  def who_am_i(self):\n",
        "    if isinstance(self.sym_parent, Pool):\n",
        "      message = f'I am a happy duck swimming in {str(self.sym_parent)}.'\n",
        "    elif isinstance(self.sym_parent, Cage):\n",
        "      message = f'I am a sad duck wandering in {str(self.sym_parent)}.'\n",
        "    else:\n",
        "      message = f'I am just a duck.'\n",
        "    print(message)\n"
      ]
    },
    {
      "cell_type": "code",
      "execution_count": 5,
      "metadata": {
        "executionInfo": {
          "elapsed": 53,
          "status": "ok",
          "timestamp": 1660957098946,
          "user": {
            "displayName": "",
            "userId": ""
          },
          "user_tz": 420
        },
        "id": "GpIFKLH0NYB_",
        "outputId": "696aa2aa-2063-4d4c-9d42-a825c0401990"
      },
      "outputs": [
        {
          "name": "stdout",
          "output_type": "stream",
          "text": [
            "I am just a duck.\n"
          ]
        }
      ],
      "source": [
        "duck = Duck()\n",
        "duck.who_am_i()"
      ]
    },
    {
      "cell_type": "code",
      "execution_count": 6,
      "metadata": {
        "executionInfo": {
          "elapsed": 55,
          "status": "ok",
          "timestamp": 1660957101240,
          "user": {
            "displayName": "",
            "userId": ""
          },
          "user_tz": 420
        },
        "id": "3AVydujGNa69",
        "outputId": "8e110d42-0c60-45de-b7e9-05e4038e969c"
      },
      "outputs": [
        {
          "name": "stdout",
          "output_type": "stream",
          "text": [
            "I am now identified by path \"occupied_by\"\n",
            "I am moving from nowhere to a small cold cage\n",
            "I am a sad duck wandering in a small cold cage.\n"
          ]
        }
      ],
      "source": [
        "cage = Cage(duck)\n",
        "duck.who_am_i()"
      ]
    },
    {
      "cell_type": "code",
      "execution_count": 7,
      "metadata": {
        "executionInfo": {
          "elapsed": 53,
          "status": "ok",
          "timestamp": 1660957102238,
          "user": {
            "displayName": "",
            "userId": ""
          },
          "user_tz": 420
        },
        "id": "TZt0LYyYN3sb",
        "outputId": "391f25ef-b0d9-4a88-8316-a822efc97488"
      },
      "outputs": [
        {
          "name": "stdout",
          "output_type": "stream",
          "text": [
            "I am moving from a small cold cage to nowhere\n",
            "I am now identified by path \"\"\n"
          ]
        }
      ],
      "source": [
        "cage.free()"
      ]
    },
    {
      "cell_type": "code",
      "execution_count": 8,
      "metadata": {
        "executionInfo": {
          "elapsed": 53,
          "status": "ok",
          "timestamp": 1660957103260,
          "user": {
            "displayName": "",
            "userId": ""
          },
          "user_tz": 420
        },
        "id": "dqhPlhSiO78L",
        "outputId": "f36b2782-50d6-43b0-af81-08bb66233214"
      },
      "outputs": [
        {
          "name": "stdout",
          "output_type": "stream",
          "text": [
            "I am now identified by path \"occupied_by\"\n",
            "I am moving from nowhere to a small green pool\n",
            "I am a happy duck swimming in a small green pool.\n"
          ]
        }
      ],
      "source": [
        "pool = Pool(duck)\n",
        "duck.who_am_i()"
      ]
    }
  ],
  "metadata": {
    "colab": {
      "collapsed_sections": [],
      "last_runtime": {
        "build_target": "//learning/deepmind/dm_python:dm_notebook3",
        "kind": "private"
      },
      "name": "\"Where is the the duck?\"",
      "provenance": []
    },
    "kernelspec": {
      "display_name": "Python 3",
      "name": "python3"
    },
    "language_info": {
      "name": "python"
    }
  },
  "nbformat": 4,
  "nbformat_minor": 0
}

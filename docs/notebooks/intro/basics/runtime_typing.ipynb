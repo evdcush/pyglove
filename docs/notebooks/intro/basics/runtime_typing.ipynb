{
  "cells": [
    {
      "cell_type": "markdown",
      "metadata": {
        "id": "2dchKesW3haD"
      },
      "source": [
        "# Runtime Typing\n",
        "\n",
        "[![Open in Colab](https://colab.research.google.com/assets/colab-badge.svg)](https://colab.research.google.com/github/google/pyglove/blob/main/docs/notebooks/intro/basics/runtime_typing.ipynb)\n",
        "\n",
        "Typing is at the very core of Symbolic Programming as a way of constraining symbolic attributes, it also maximizes the productivity when developing new components with PyGlove. `pg.typing` provides a runtime typing system for such purposes."
      ]
    },
    {
      "cell_type": "code",
      "execution_count": null,
      "metadata": {
        "id": "P3IlAniD2aSg"
      },
      "outputs": [],
      "source": [
        "!pip install pyglove"
      ]
    },
    {
      "cell_type": "code",
      "execution_count": 2,
      "metadata": {
        "executionInfo": {
          "elapsed": 473,
          "status": "ok",
          "timestamp": 1660782383363,
          "user": {
            "displayName": "",
            "userId": ""
          },
          "user_tz": 420
        },
        "id": "dBa5qEXD2cG6"
      },
      "outputs": [],
      "source": [
        "import pyglove as pg"
      ]
    },
    {
      "cell_type": "markdown",
      "metadata": {
        "id": "4oL627eT5dF2"
      },
      "source": [
        "## 1. Get started with `pg.typing`"
      ]
    },
    {
      "cell_type": "code",
      "execution_count": 3,
      "metadata": {
        "executionInfo": {
          "elapsed": 54,
          "status": "ok",
          "timestamp": 1660782383562,
          "user": {
            "displayName": "",
            "userId": ""
          },
          "user_tz": 420
        },
        "id": "kj9Pl_2V3g6B"
      },
      "outputs": [],
      "source": [
        "@pg.members([\n",
        "  ('x', pg.typing.Int(min_value=1, max_value=10).noneable()),\n",
        "  ('y', pg.typing.Union([\n",
        "      pg.typing.Int(), pg.typing.Enum('a', ['a', 'b', 'c'])\n",
        "  ], default=1))\n",
        "])\n",
        "class Foo(pg.Object):\n",
        "  pass\n",
        "\n",
        "import contextlib\n",
        "\n",
        "@contextlib.contextmanager\n",
        "def expect_error(error_type):\n",
        "  has_error = False\n",
        "  try:\n",
        "    yield\n",
        "  except error_type as e:\n",
        "    print(f'ERROR: {e!r}')\n",
        "    has_error = True\n",
        "  finally:\n",
        "    assert has_error"
      ]
    },
    {
      "cell_type": "code",
      "execution_count": 4,
      "metadata": {
        "executionInfo": {
          "elapsed": 54,
          "status": "ok",
          "timestamp": 1660782383765,
          "user": {
            "displayName": "",
            "userId": ""
          },
          "user_tz": 420
        },
        "id": "5GXosEIP42zd",
        "outputId": "fc71351c-6c24-4972-9841-dbea02e13908"
      },
      "outputs": [
        {
          "name": "stdout",
          "output_type": "stream",
          "text": [
            "Foo(\n",
            "  x = None,\n",
            "  y = 1\n",
            ")\n"
          ]
        }
      ],
      "source": [
        "# Use the defaults: x=0, y=1\n",
        "f = Foo()\n",
        "print(f)"
      ]
    },
    {
      "cell_type": "code",
      "execution_count": 5,
      "metadata": {
        "executionInfo": {
          "elapsed": 53,
          "status": "ok",
          "timestamp": 1660782383933,
          "user": {
            "displayName": "",
            "userId": ""
          },
          "user_tz": 420
        },
        "id": "Us2myKVG4_3X",
        "outputId": "695d1b07-5bad-4068-9bae-70133b9313a2"
      },
      "outputs": [
        {
          "name": "stdout",
          "output_type": "stream",
          "text": [
            "ERROR: ValueError('Value 11 is out of range (min=1, max=10). (path=x)')\n"
          ]
        }
      ],
      "source": [
        "# Raises as `x` is out of range ([1, 10]).\n",
        "with expect_error(ValueError):\n",
        "  _ = Foo(x=11)"
      ]
    },
    {
      "cell_type": "code",
      "execution_count": 6,
      "metadata": {
        "executionInfo": {
          "elapsed": 57,
          "status": "ok",
          "timestamp": 1660782384108,
          "user": {
            "displayName": "",
            "userId": ""
          },
          "user_tz": 420
        },
        "id": "CHIWIUNX5Ich",
        "outputId": "eb297d4c-cad7-4feb-e24a-21afdedb5141"
      },
      "outputs": [
        {
          "name": "stdout",
          "output_type": "stream",
          "text": [
            "ERROR: ValueError(\"Value 'd' is not in candidate list ['a', 'b', 'c']. (path=y)\")\n"
          ]
        }
      ],
      "source": [
        "# Raises as `y` is not an integer nor among ['a', 'b', 'c'].\n",
        "with expect_error(ValueError):\n",
        "  _ = Foo(y='d')"
      ]
    },
    {
      "cell_type": "markdown",
      "metadata": {
        "id": "WiDLxry-5Soy"
      },
      "source": [
        "## 2. Applicability of `pg.typing`\n",
        "\n",
        "`pg.typing` is available for specifying the constraints for all symbolic types."
      ]
    },
    {
      "cell_type": "markdown",
      "metadata": {
        "id": "-GD2ryHJ59pn"
      },
      "source": [
        "### 2.1 `pg.List` and `pg.Dict`"
      ]
    },
    {
      "cell_type": "code",
      "execution_count": 7,
      "metadata": {
        "executionInfo": {
          "elapsed": 54,
          "status": "ok",
          "timestamp": 1660782384279,
          "user": {
            "displayName": "",
            "userId": ""
          },
          "user_tz": 420
        },
        "id": "V6XUK0Uz6DEw",
        "outputId": "eb2c643e-5e5b-4172-b559-61478c94454a"
      },
      "outputs": [
        {
          "name": "stdout",
          "output_type": "stream",
          "text": [
            "ERROR: TypeError(\"Expect \u003cclass 'int'\u003e but encountered \u003cclass 'float'\u003e: 1.0. (path=[1])\")\n"
          ]
        }
      ],
      "source": [
        "l = pg.List(value_spec=pg.typing.List(pg.typing.Int()))\n",
        "\n",
        "# Okay\n",
        "l.append(1)\n",
        "\n",
        "# Not okay. 1.0 is not an integer.\n",
        "with expect_error(TypeError):\n",
        "  l.append(1.0)"
      ]
    },
    {
      "cell_type": "code",
      "execution_count": 8,
      "metadata": {
        "executionInfo": {
          "elapsed": 54,
          "status": "ok",
          "timestamp": 1660782384448,
          "user": {
            "displayName": "",
            "userId": ""
          },
          "user_tz": 420
        },
        "id": "o8fQNWj66RHV",
        "outputId": "27797771-0ceb-44ce-a34c-9f263d344eea"
      },
      "outputs": [
        {
          "name": "stdout",
          "output_type": "stream",
          "text": [
            "{\n",
            "  x = 'foo',\n",
            "  y = None\n",
            "}\n",
            "ERROR: KeyError(\"Key 'z' is not allowed for \u003cclass 'pyglove.core.symbolic.Dict'\u003e. (path=)\")\n"
          ]
        }
      ],
      "source": [
        "d = pg.Dict(x='foo', value_spec=pg.typing.Dict([\n",
        "  ('x', pg.typing.Any()),\n",
        "  ('y', pg.typing.Int().noneable())\n",
        "]))\n",
        "\n",
        "print(d)\n",
        "\n",
        "# Okay. 1 is an integer.\n",
        "d.y = 1\n",
        "\n",
        "# Not okay, 'z' is not allowed as a key in the Dict.\n",
        "with expect_error(KeyError):\n",
        "  d.z = True"
      ]
    },
    {
      "cell_type": "code",
      "execution_count": 9,
      "metadata": {
        "executionInfo": {
          "elapsed": 57,
          "status": "ok",
          "timestamp": 1660782384624,
          "user": {
            "displayName": "",
            "userId": ""
          },
          "user_tz": 420
        },
        "id": "cyXgvPAJ6ojG",
        "outputId": "1235f135-9be2-4950-e8ee-8fde75b6eb1a"
      },
      "outputs": [
        {
          "name": "stdout",
          "output_type": "stream",
          "text": [
            "ERROR: TypeError(\"Expect \u003cclass 'int'\u003e but encountered \u003cclass 'str'\u003e: foo. (path=z)\")\n"
          ]
        }
      ],
      "source": [
        "# Define a dict of str to integers.\n",
        "d = pg.Dict(value_spec=pg.typing.Dict([\n",
        "  (pg.typing.StrKey(), pg.typing.Int()),\n",
        "]))\n",
        "\n",
        "# Okay. string keys with integer values.\n",
        "d.x = 1\n",
        "d.y = 2\n",
        "\n",
        "# Not okay. The value is not an integer.\n",
        "with expect_error(TypeError):\n",
        "  d.z = 'foo'"
      ]
    },
    {
      "cell_type": "code",
      "execution_count": 10,
      "metadata": {
        "executionInfo": {
          "elapsed": 55,
          "status": "ok",
          "timestamp": 1660782384797,
          "user": {
            "displayName": "",
            "userId": ""
          },
          "user_tz": 420
        },
        "id": "fW1h3F9k7Gbt",
        "outputId": "399894ee-20a8-4b9a-92cc-e58eafc0a030"
      },
      "outputs": [
        {
          "name": "stdout",
          "output_type": "stream",
          "text": [
            "ERROR: KeyError(\"Key 'data1' is not allowed for \u003cclass 'pyglove.core.symbolic.Dict'\u003e. (path=)\")\n"
          ]
        }
      ],
      "source": [
        "# Constraint on key names\n",
        "d = pg.Dict(value_spec=pg.typing.Dict([\n",
        "  (pg.typing.StrKey('.*_file'), pg.typing.Str()),\n",
        "]))\n",
        "\n",
        "# Okay. String keys ended with '_file'.\n",
        "d.data1_file = 'abc'\n",
        "d.data2_file = 'cde'\n",
        "\n",
        "# Not okay. Key does not end with '_file'.\n",
        "with expect_error(KeyError):\n",
        "  d.data1 = 'efg'"
      ]
    },
    {
      "cell_type": "markdown",
      "metadata": {
        "id": "zWoip77k7nx5"
      },
      "source": [
        "### 2.2 `pg.Object` subclasses"
      ]
    },
    {
      "cell_type": "code",
      "execution_count": 11,
      "metadata": {
        "executionInfo": {
          "elapsed": 56,
          "status": "ok",
          "timestamp": 1660782384968,
          "user": {
            "displayName": "",
            "userId": ""
          },
          "user_tz": 420
        },
        "id": "WbwMrEbi71Tt",
        "outputId": "29e1355c-cec4-468a-9281-e8bca09fa9a3"
      },
      "outputs": [
        {
          "name": "stdout",
          "output_type": "stream",
          "text": [
            "Foo(\n",
            "  x = 1,\n",
            "  y = {\n",
            "    z = 2.0\n",
            "  }\n",
            ")\n"
          ]
        }
      ],
      "source": [
        "# pg.typing.Dict makes it convenient to define hierarchical \n",
        "# symbolic attributes.\n",
        "@pg.members([\n",
        "  ('x', pg.typing.Int()),\n",
        "  ('y', pg.typing.Dict([\n",
        "      ('z', pg.typing.Float(default=1.0))\n",
        "  ]))\n",
        "])\n",
        "class Foo(pg.Object):\n",
        "  pass\n",
        "\n",
        "f = Foo(x=1, y=pg.Dict(z=2.0))\n",
        "print(f)"
      ]
    },
    {
      "cell_type": "markdown",
      "metadata": {
        "id": "_6zPo1Fl8toA"
      },
      "source": [
        "### 2.3. Functors via `pg.functor`."
      ]
    },
    {
      "cell_type": "code",
      "execution_count": 12,
      "metadata": {
        "executionInfo": {
          "elapsed": 54,
          "status": "ok",
          "timestamp": 1660782385139,
          "user": {
            "displayName": "",
            "userId": ""
          },
          "user_tz": 420
        },
        "id": "1BgRZRh08x4O",
        "outputId": "e3477bfa-5711-4fec-bede-9385ba3093a3"
      },
      "outputs": [
        {
          "name": "stdout",
          "output_type": "stream",
          "text": [
            "foo(\n",
            "  x = 1.0,\n",
            "  y = 2.0\n",
            ")\n"
          ]
        }
      ],
      "source": [
        "# Type definition in functor can inherit default values\n",
        "# from the function signature.\n",
        "@pg.functor([\n",
        "  ('x', pg.typing.Float()),\n",
        "  ('y', pg.typing.Float())\n",
        "])\n",
        "def foo(x=1.0, y=2.0):\n",
        "  pass\n",
        "\n",
        "f = foo()\n",
        "print(f)"
      ]
    },
    {
      "cell_type": "markdown",
      "metadata": {
        "id": "tKnm2y4O9PZn"
      },
      "source": [
        "### 2.4 Class wrappers via `pg.symbolize`"
      ]
    },
    {
      "cell_type": "code",
      "execution_count": 13,
      "metadata": {
        "executionInfo": {
          "elapsed": 53,
          "status": "ok",
          "timestamp": 1660782385307,
          "user": {
            "displayName": "",
            "userId": ""
          },
          "user_tz": 420
        },
        "id": "hcldOLbX9UUH",
        "outputId": "0c55b283-ee2c-4e4e-f41f-742b1ba5facd"
      },
      "outputs": [
        {
          "name": "stdout",
          "output_type": "stream",
          "text": [
            "ERROR: TypeError(\"Expect \u003cclass 'int'\u003e but encountered \u003cclass 'float'\u003e: 1.0. (path=x)\")\n"
          ]
        }
      ],
      "source": [
        "class _Foo:\n",
        "  def __init__(self, x, y):\n",
        "    pass\n",
        "\n",
        "# Type constraint can be passed as the second argument\n",
        "# of `pg.symbolize`.\n",
        "Foo = pg.symbolize(_Foo, [\n",
        "  ('x', pg.typing.Int()),\n",
        "  ('y', pg.typing.Int()),\n",
        "])\n",
        "\n",
        "# Not okay. 1.0 is not an integer.\n",
        "with expect_error(TypeError):\n",
        "  _ = Foo(1.0, 2)"
      ]
    },
    {
      "cell_type": "markdown",
      "metadata": {
        "id": "AkihNRE490bd"
      },
      "source": [
        "## 3. Value specifications\n",
        "\n",
        "PyGlove supports value specifications for almost all common types in Python.\n",
        "\n",
        "A value specification is an object of a `pg.typing.ValueSpec` subclass. All `ValueSpec` subclasses have common traits:\n",
        "\n",
        "- `default` argument: Set the default value of current field.\n",
        "- `.noneable()`: Marks the field can be None, and use None as the default value if the `default` is not specified.\n"
      ]
    },
    {
      "cell_type": "markdown",
      "metadata": {
        "id": "ekoj4piNABos"
      },
      "source": [
        "### 3.1 Any type"
      ]
    },
    {
      "cell_type": "code",
      "execution_count": 14,
      "metadata": {
        "executionInfo": {
          "elapsed": 55,
          "status": "ok",
          "timestamp": 1660782385482,
          "user": {
            "displayName": "",
            "userId": ""
          },
          "user_tz": 420
        },
        "id": "OMKwd9g6ADzi",
        "outputId": "a3f3f8aa-295c-4f03-a3cb-987a8e261b47"
      },
      "outputs": [
        {
          "name": "stdout",
          "output_type": "stream",
          "text": [
            "Any()\n"
          ]
        }
      ],
      "source": [
        "print(pg.typing.Any())"
      ]
    },
    {
      "cell_type": "markdown",
      "metadata": {
        "id": "EcQIJCR8-J4p"
      },
      "source": [
        "### 3.2 Numbers and string"
      ]
    },
    {
      "cell_type": "code",
      "execution_count": 15,
      "metadata": {
        "executionInfo": {
          "elapsed": 55,
          "status": "ok",
          "timestamp": 1660782385652,
          "user": {
            "displayName": "",
            "userId": ""
          },
          "user_tz": 420
        },
        "id": "j15XO0Jp-ISW",
        "outputId": "843d74b1-8689-42ea-fade-580d92a7d92b"
      },
      "outputs": [
        {
          "name": "stdout",
          "output_type": "stream",
          "text": [
            "Bool(default=True)\n",
            "Int(default=1, min=0, max=10)\n",
            "Float(default=None, min=0.0, max=1.0, noneable=True)\n",
            "Str(regex='.*file')\n"
          ]
        }
      ],
      "source": [
        "# Boolean\n",
        "print(pg.typing.Bool(default=True))\n",
        "\n",
        "# Integer: with optional min/max constraint.\n",
        "print(pg.typing.Int(min_value=0, max_value=10, default=1))\n",
        "\n",
        "# Float: with optional min/max constraint.\n",
        "print(pg.typing.Float(min_value=0.0, max_value=1.0).noneable())\n",
        "\n",
        "# Str: with optinal constraint with regular expression.\n",
        "print(pg.typing.Str(regex='.*file'))"
      ]
    },
    {
      "cell_type": "markdown",
      "metadata": {
        "id": "7RiNYzR3_7X6"
      },
      "source": [
        "### 3.3 Lists"
      ]
    },
    {
      "cell_type": "code",
      "execution_count": 16,
      "metadata": {
        "executionInfo": {
          "elapsed": 2,
          "status": "ok",
          "timestamp": 1660782385892,
          "user": {
            "displayName": "",
            "userId": ""
          },
          "user_tz": 420
        },
        "id": "s3OzlAZv_6X2",
        "outputId": "c0221d1a-cb65-4f18-fa74-d7abc8ceb5b6"
      },
      "outputs": [
        {
          "name": "stdout",
          "output_type": "stream",
          "text": [
            "List(Int(min=0))\n",
            "List(Int(), min_size=2, max_size=2)\n",
            "List(Any(), min_size=1, max_size=10)\n"
          ]
        }
      ],
      "source": [
        "# Lists of non-negative integers.\n",
        "print(pg.typing.List(pg.typing.Int(min_value=0)))\n",
        "\n",
        "# Lists of fixed size (2).\n",
        "print(pg.typing.List(pg.typing.Int(), size=2))\n",
        "\n",
        "# Lists of min/max size.\n",
        "print(pg.typing.List(pg.typing.Any(), min_size=1, max_size=10))"
      ]
    },
    {
      "cell_type": "markdown",
      "metadata": {
        "id": "4Ml7ChX_Aeux"
      },
      "source": [
        "### 3.4 Dicts"
      ]
    },
    {
      "cell_type": "code",
      "execution_count": 17,
      "metadata": {
        "executionInfo": {
          "elapsed": 54,
          "status": "ok",
          "timestamp": 1660782386084,
          "user": {
            "displayName": "",
            "userId": ""
          },
          "user_tz": 420
        },
        "id": "uKgucJQdAdzG",
        "outputId": "e4272b0e-fd33-4e3f-b5c0-909a245eb409"
      },
      "outputs": [
        {
          "name": "stdout",
          "output_type": "stream",
          "text": [
            "Dict()\n",
            "Dict({\n",
            "  # Optional docstr for x\n",
            "  x = Int(),\n",
            "\n",
            "  y = Float(default=None, noneable=True)\n",
            "})\n",
            "Dict({\n",
            "  StrKey() = Int()\n",
            "})\n",
            "Dict({\n",
            "  StrKey(regex='.*file') = Int()\n",
            "})\n"
          ]
        }
      ],
      "source": [
        "# Free-form dict.\n",
        "print(pg.typing.Dict())\n",
        "\n",
        "# Dict with fixed schema.\n",
        "print(pg.typing.Dict([\n",
        "  ('x', pg.typing.Int(), 'Optional docstr for x'),\n",
        "  ('y', pg.typing.Float().noneable())\n",
        "]))\n",
        "\n",
        "# Dict with any string keys.\n",
        "print(pg.typing.Dict([\n",
        "  (pg.typing.StrKey(), pg.typing.Int())\n",
        "]))\n",
        "\n",
        "# Dict with string keys with a regex pattern.\n",
        "print(pg.typing.Dict([\n",
        "  (pg.typing.StrKey('.*file'), pg.typing.Int())\n",
        "]))"
      ]
    },
    {
      "cell_type": "markdown",
      "metadata": {
        "id": "zTswCXNpBJmg"
      },
      "source": [
        "### 3.5. Object of a class"
      ]
    },
    {
      "cell_type": "code",
      "execution_count": 18,
      "metadata": {
        "executionInfo": {
          "elapsed": 3,
          "status": "ok",
          "timestamp": 1660782386242,
          "user": {
            "displayName": "",
            "userId": ""
          },
          "user_tz": 420
        },
        "id": "w6CgStllBJFT",
        "outputId": "808b6797-afcc-4efd-da66-f451e0e2c34d"
      },
      "outputs": [
        {
          "name": "stdout",
          "output_type": "stream",
          "text": [
            "Object(Foo)\n"
          ]
        }
      ],
      "source": [
        "class Foo:\n",
        "  pass\n",
        "\n",
        "# Object of Foo.\n",
        "print(pg.typing.Object(Foo))"
      ]
    },
    {
      "cell_type": "markdown",
      "metadata": {
        "id": "9_ZF9tz44cT8"
      },
      "source": [
        "### 3.6. Type"
      ]
    },
    {
      "cell_type": "code",
      "execution_count": 19,
      "metadata": {
        "executionInfo": {
          "elapsed": 53,
          "status": "ok",
          "timestamp": 1660782386428,
          "user": {
            "displayName": "",
            "userId": ""
          },
          "user_tz": 420
        },
        "id": "GZtuGn0C4hON",
        "outputId": "82556113-8db2-4555-fea3-7168d571f509"
      },
      "outputs": [
        {
          "name": "stdout",
          "output_type": "stream",
          "text": [
            "Type(\u003cclass '__main__.Foo'\u003e)\n"
          ]
        }
      ],
      "source": [
        "# Subclasses of Foo.\n",
        "print(pg.typing.Type(Foo))"
      ]
    },
    {
      "cell_type": "markdown",
      "metadata": {
        "id": "rmJ2byuqBihw"
      },
      "source": [
        "### 3.7. Callable"
      ]
    },
    {
      "cell_type": "code",
      "execution_count": 20,
      "metadata": {
        "executionInfo": {
          "elapsed": 2,
          "status": "ok",
          "timestamp": 1660782386599,
          "user": {
            "displayName": "",
            "userId": ""
          },
          "user_tz": 420
        },
        "id": "CX3mb6X3Bh8J",
        "outputId": "c538fb66-5802-47dd-ac4a-030d00a3ebde"
      },
      "outputs": [
        {
          "name": "stdout",
          "output_type": "stream",
          "text": [
            "Callable()\n",
            "Callable(args=[Int(), Int()])\n",
            "Callable(args=[Int()], kw=[('x', Float())], returns=Bool())\n"
          ]
        }
      ],
      "source": [
        "# Any callable.\n",
        "print(pg.typing.Callable())\n",
        "\n",
        "# Callable with 2 positional integer arguments.\n",
        "print(pg.typing.Callable([\n",
        "  pg.typing.Int(), pg.typing.Int()\n",
        "]))\n",
        "\n",
        "# Callable with 1 positional argument, 1 keyword argument\n",
        "# and requires the return value to be a boolean.\n",
        "print(pg.typing.Callable(\n",
        "    [pg.typing.Int()], \n",
        "    kw=[('x', pg.typing.Float())], \n",
        "    returns=pg.typing.Bool()))"
      ]
    },
    {
      "cell_type": "markdown",
      "metadata": {
        "id": "ZtYitOv-CcuZ"
      },
      "source": [
        "### 3.8 Union"
      ]
    },
    {
      "cell_type": "code",
      "execution_count": 21,
      "metadata": {
        "executionInfo": {
          "elapsed": 68,
          "status": "ok",
          "timestamp": 1660782386798,
          "user": {
            "displayName": "",
            "userId": ""
          },
          "user_tz": 420
        },
        "id": "rsA_mS8MCcOZ",
        "outputId": "eb5cf078-1fb4-4c94-a133-c5f0f10954c4"
      },
      "outputs": [
        {
          "name": "stdout",
          "output_type": "stream",
          "text": [
            "Union([\n",
            "    Int(),\n",
            "    Float(),\n",
            "    Object(Foo),\n",
            "    Object(Bar)\n",
            "  ])\n",
            "Union([\n",
            "    Union([Int(), Float()]),\n",
            "    Callable(returns=Int())\n",
            "  ])\n"
          ]
        }
      ],
      "source": [
        "class Foo:\n",
        "  pass\n",
        "\n",
        "class Bar:\n",
        "  pass\n",
        "\n",
        "# An union of int, float, Foo or Bar.\n",
        "print(pg.typing.Union([\n",
        "  pg.typing.Int(),\n",
        "  pg.typing.Float(),\n",
        "  pg.typing.Object(Foo),\n",
        "  pg.typing.Object(Bar)\n",
        "]))\n",
        "\n",
        "# An union of a nested union and a callable.\n",
        "print(pg.typing.Union([\n",
        "  pg.typing.Union([pg.typing.Int(), pg.typing.Float()])                       ,\n",
        "  pg.typing.Callable(returns=pg.typing.Int())\n",
        "]))"
      ]
    },
    {
      "cell_type": "markdown",
      "metadata": {
        "id": "Gg-yY1FeDPrx"
      },
      "source": [
        "## 4. Automatic type conversions\n",
        "\n",
        "In programming language like C++, types can define automatic conversion rules, e.g:\n",
        "```C++\n",
        "class MyType {\n",
        "  public:\n",
        "     operator int() { return this-\u003evalue }\n",
        "};\n",
        "\n",
        "a = 1 + MyType(1)\n",
        "```\n",
        "There is no such concept of implicit type conversion in Python. However, the need of implicit conversion is necessary. For example, for a `pg.typing.Int()`, it should also accept a `numpy.integer`.\n",
        "\n",
        "This can be done with `pg.typing.register_converter`."
      ]
    },
    {
      "cell_type": "code",
      "execution_count": 22,
      "metadata": {
        "executionInfo": {
          "elapsed": 55,
          "status": "ok",
          "timestamp": 1660782386971,
          "user": {
            "displayName": "",
            "userId": ""
          },
          "user_tz": 420
        },
        "id": "GTNI5UTYEppx",
        "outputId": "58f33657-d8bf-457f-d597-dc30a630497e"
      },
      "outputs": [
        {
          "name": "stdout",
          "output_type": "stream",
          "text": [
            "ERROR: TypeError(\"Expect \u003cclass 'int'\u003e but encountered \u003cclass 'numpy.int32'\u003e: 0. (path=)\")\n"
          ]
        },
        {
          "data": {
            "text/plain": [
              "0"
            ]
          },
          "execution_count": 22,
          "metadata": {},
          "output_type": "execute_result"
        }
      ],
      "source": [
        "import numpy as np\n",
        "\n",
        "# Not okay. np.int32 is not int.\n",
        "with expect_error(TypeError):\n",
        "  pg.typing.Int().apply(np.int32(0))\n",
        "\n",
        "# Register automatic conversion\n",
        "pg.typing.register_converter(np.int32, int, int)\n",
        "\n",
        "# Okay. Conversion is effective.\n",
        "pg.typing.Int().apply(np.int32(0))"
      ]
    }
  ],
  "metadata": {
    "colab": {
      "collapsed_sections": [],
      "last_runtime": {
        "build_target": "//learning/deepmind/dm_python:dm_notebook3",
        "kind": "private"
      },
      "name": "Runtime Typing",
      "provenance": [
        {
          "file_id": "19Q-_QJBVFeOoa3U-qg84naRP_pLRJDbq",
          "timestamp": 1660782325624
        }
      ],
      "toc_visible": true
    },
    "kernelspec": {
      "display_name": "Python 3",
      "name": "python3"
    },
    "language_info": {
      "name": "python"
    }
  },
  "nbformat": 4,
  "nbformat_minor": 0
}

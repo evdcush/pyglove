{
  "cells": [
    {
      "cell_type": "markdown",
      "metadata": {
        "id": "TOXsiSU-HTvF"
      },
      "source": [
        "# Fine Control the Evolution Process\n",
        "\n",
        "[![Open in Colab](https://colab.research.google.com/assets/colab-badge.svg)](https://colab.research.google.com/github/google/pyglove/blob/main/docs/notebooks/intro/search/evolution_scheduling.ipynb)\n",
        "\n",
        "Oftentimes, we may want to adjust reproduction behaviors while evolution progresses. For example, to explore more at the beginning, and to exploit more at the later stage of the search. This notebook illustrates how to fine control such behaviors during the evolution process, through PyGlove's symbolic scalar system. In fact, almost all built-in operations provided by PyGlove support hyperparameters controlled by such scalars. Before we get into a rich library of scalars, let's start with a simple case which decays the mutation probability as the search progresses."
      ]
    },
    {
      "cell_type": "code",
      "execution_count": null,
      "metadata": {
        "id": "KQeyYDX2HE3V"
      },
      "outputs": [],
      "source": [
        "!pip install pyglove"
      ]
    },
    {
      "cell_type": "code",
      "execution_count": 4,
      "metadata": {
        "executionInfo": {
          "elapsed": 1,
          "status": "ok",
          "timestamp": 1683844797913,
          "user": {
            "displayName": "",
            "userId": ""
          },
          "user_tz": 420
        },
        "id": "zZxcIiJwMdue"
      },
      "outputs": [],
      "source": [
        "import pyglove as pg"
      ]
    },
    {
      "cell_type": "markdown",
      "metadata": {
        "id": "FJb1Kf8qMjFL"
      },
      "source": [
        "\u003ca name=\"getting-started\"\u003e\u003c/a\u003e\n",
        "## Getting Started: Mutation with decaying probability\n",
        "\n",
        "First, let's mutate a DNA with the same probability (0.9) along the whole evolution process:"
      ]
    },
    {
      "cell_type": "code",
      "execution_count": 5,
      "metadata": {
        "executionInfo": {
          "elapsed": 60,
          "status": "ok",
          "timestamp": 1683844798139,
          "user": {
            "displayName": "",
            "userId": ""
          },
          "user_tz": 420
        },
        "id": "9FNPSdH3OQDe",
        "outputId": "00687ed7-b38c-4c80-c28e-900bea251f0a"
      },
      "outputs": [
        {
          "name": "stdout",
          "output_type": "stream",
          "text": [
            "DNA(0)\n"
          ]
        }
      ],
      "source": [
        "dna_spec = pg.dna_spec(pg.oneof(range(10)))\n",
        "dna = dna_spec.first_dna()\n",
        "print(dna)"
      ]
    },
    {
      "cell_type": "code",
      "execution_count": 6,
      "metadata": {
        "executionInfo": {
          "elapsed": 57,
          "status": "ok",
          "timestamp": 1683844798331,
          "user": {
            "displayName": "",
            "userId": ""
          },
          "user_tz": 420
        },
        "id": "o39NT6eDMuRR",
        "outputId": "d41d6bd7-62e5-4d08-9184-d7179a7fa03b"
      },
      "outputs": [
        {
          "name": "stdout",
          "output_type": "stream",
          "text": [
            "DNA(9)\n",
            "DNA(4)\n",
            "DNA(7)\n",
            "DNA(7)\n",
            "DNA(3)\n",
            "DNA(7)\n",
            "DNA(6)\n",
            "DNA(9)\n",
            "DNA(7)\n",
            "DNA(3)\n"
          ]
        }
      ],
      "source": [
        "# Mutate a DNA with prability 0.9.\n",
        "op = pg.evolution.mutators.Uniform(seed=1).with_prob(0.9)\n",
        "for _ in range(10):\n",
        "  dna = op([dna])[0]\n",
        "  print(dna)"
      ]
    },
    {
      "cell_type": "markdown",
      "metadata": {
        "id": "vLuy9w6GNR_H"
      },
      "source": [
        "Assume we will run the search with 20 generations, can we gradually reduce the mutation probability from 1.0 to 0.0? Here is the answer:"
      ]
    },
    {
      "cell_type": "code",
      "execution_count": 7,
      "metadata": {
        "executionInfo": {
          "elapsed": 53,
          "status": "ok",
          "timestamp": 1683844798525,
          "user": {
            "displayName": "",
            "userId": ""
          },
          "user_tz": 420
        },
        "id": "0U6hl293OJFQ",
        "outputId": "3a7aea0b-8a3b-4a86-9760-8b0ed5c8f859"
      },
      "outputs": [
        {
          "name": "stdout",
          "output_type": "stream",
          "text": [
            "DNA(9)\n",
            "DNA(4)\n",
            "DNA(7)\n",
            "DNA(7)\n",
            "DNA(3)\n",
            "DNA(7)\n",
            "DNA(6)\n",
            "DNA(6)\n",
            "DNA(9)\n",
            "DNA(7)\n",
            "DNA(7)\n",
            "DNA(3)\n",
            "DNA(3)\n",
            "DNA(5)\n",
            "DNA(5)\n",
            "DNA(5)\n",
            "DNA(5)\n",
            "DNA(5)\n",
            "DNA(5)\n",
            "DNA(0)\n"
          ]
        }
      ],
      "source": [
        "op = pg.evolution.mutators.Uniform(seed=1).with_prob(\n",
        "    pg.scalars.linear(20, 1.0, 0.0), seed=1)\n",
        "\n",
        "dna = dna_spec.first_dna()\n",
        "for i in range(20):\n",
        "  dna = op([dna], step=i)[0]\n",
        "  print(dna)"
      ]
    },
    {
      "cell_type": "markdown",
      "metadata": {
        "id": "BIrZQufpQL54"
      },
      "source": [
        "\u003ca name=\"scalar-system\"\u003e\u003c/a\u003e\n",
        "## PyGlove's Symbolic Scalar System\n",
        "\n",
        "Before we introduce PyGlove's symbolic scalar system, let's take a look at the mechanism for supporting evolution behavior scheduling."
      ]
    },
    {
      "cell_type": "markdown",
      "metadata": {
        "id": "MhmwX7ODQ1WQ"
      },
      "source": [
        "\u003ca name=\"step-based-hyper\"\u003e\u003c/a\u003e\n",
        "### Step-based Hyperparameters\n",
        "\n",
        "As introduced in [Evolutionary Algorithm](https://colab.research.google.com/github/google/pyglove/blob/main/docs/notebooks/intro/search/evolution_algorithm.ipynb), evolutionary operations in PyGlove can take a `step` argument when processing the input. This means, if an operation is controlled by a hyperparameter (e.g. probability), the hyperparameter can be a function of `step`. Therefore, we can pass a function to `pg.evolution.selectors.Top` as the value for `n`:\n",
        "\n"
      ]
    },
    {
      "cell_type": "code",
      "execution_count": 8,
      "metadata": {
        "executionInfo": {
          "elapsed": 53,
          "status": "ok",
          "timestamp": 1683844798700,
          "user": {
            "displayName": "",
            "userId": ""
          },
          "user_tz": 420
        },
        "id": "gjXah0P_SHfs"
      },
      "outputs": [],
      "source": [
        "dna_list = [\n",
        "  pg.evolution.set_fitness(pg.DNA(i), i)\n",
        "  for i in range(10)\n",
        "]"
      ]
    },
    {
      "cell_type": "code",
      "execution_count": 9,
      "metadata": {
        "executionInfo": {
          "elapsed": 54,
          "status": "ok",
          "timestamp": 1683844798896,
          "user": {
            "displayName": "",
            "userId": ""
          },
          "user_tz": 420
        },
        "id": "iV-4wgK1SUqQ",
        "outputId": "1cfce69c-dfc0-4a18-a988-931fdc95cf09"
      },
      "outputs": [
        {
          "name": "stdout",
          "output_type": "stream",
          "text": [
            "[]\n",
            "[DNA(9)]\n",
            "[DNA(9), DNA(8)]\n"
          ]
        }
      ],
      "source": [
        "op = pg.evolution.selectors.Top(lambda x: x)\n",
        "\n",
        "print(op(dna_list, step=0))\n",
        "print(op(dna_list, step=1))\n",
        "print(op(dna_list, step=2))"
      ]
    },
    {
      "cell_type": "markdown",
      "metadata": {
        "id": "-4RwKjkgTUL5"
      },
      "source": [
        "\u003ca name=\"symbolic-scalars\"\u003e\u003c/a\u003e\n",
        "### Symbolic Scalars: Reusable \u0026 compositional functions for hyperparameter scheduling\n",
        "\n",
        "It's natural to think about how to make the functions for producing hyperparameters reusable, preferrably compositional. PyGlove introduces `pg.scalars` sub-module for such purpose. A scalar is a callable symbolic object that produces a value based on a step, defined as:\n",
        "\n",
        "```python\n",
        "class Scalar(pg.Object):\n",
        "  def __call__(self, step: int) -\u003e Any\n",
        "```\n",
        "\n",
        "For example, `pg.scalars.STEP` is a singleton `Scalar` subclass which returns the current step. `Scalar` overloads operators such as `__add__`, `__sub__`, so the scalar objects can be combined as regular math expressions. For example:"
      ]
    },
    {
      "cell_type": "code",
      "execution_count": 10,
      "metadata": {
        "executionInfo": {
          "elapsed": 56,
          "status": "ok",
          "timestamp": 1683844799088,
          "user": {
            "displayName": "",
            "userId": ""
          },
          "user_tz": 420
        },
        "id": "Z2N8W-u0VRGS",
        "outputId": "1523d2de-1760-41af-d4d1-37574f264963"
      },
      "outputs": [
        {
          "name": "stdout",
          "output_type": "stream",
          "text": [
            "Addition(\n",
            "  x = Constant(\n",
            "    value = 2\n",
            "  ),\n",
            "  y = Addition(\n",
            "    x = 0,\n",
            "    y = Multiplication(\n",
            "      x = _Step(),\n",
            "      y = 1.0\n",
            "    )\n",
            "  )\n",
            ")\n",
            "12.0\n"
          ]
        }
      ],
      "source": [
        "h = (pg.scalars.Constant(2) \n",
        "     + pg.scalars.linear(total_steps=10, start=0, end=10))\n",
        "print(h)\n",
        "print(h(10))"
      ]
    },
    {
      "cell_type": "markdown",
      "metadata": {
        "id": "BTsk1x4yV_FU"
      },
      "source": [
        "In order for an operation to use a scalar as hyperparameter, all it needs is to:\n",
        " * define its hyperparameter using `pg.scalars.scalar_spec`.\n",
        " * get the scalar value at a given step using `pg.scalars.scalar_value`.\n",
        " \n",
        "For example, `pg.evolution.selectors.Top` defines and consumes its argument `n` in the following way:\n",
        "\n",
        "```python\n",
        "@pg.mebmers([\n",
        "  ('n', pg.scalars.scalar_spec(pg.typing.Int(min_value=0)))\n",
        "])\n",
        "class Top(pg.evolution.Selector)\n",
        "  def select(self, inputs, step):\n",
        "    n = pg.scalars.scalar_value(self.n, step)\n",
        "    ...\n",
        "```"
      ]
    },
    {
      "cell_type": "markdown",
      "metadata": {
        "id": "FFr2NuLLU41K"
      },
      "source": [
        "\u003ca name=\"catalog\"\u003e\u003c/a\u003e\n",
        "## A Catalog of Built-in Scalars\n",
        "\n",
        "PyGlove provides a rich set of built-in scalars for addressing most common scheduling needs, including basic math operations, random number generators and common decay functions. It also provides a `StepWise` schedule to work with `pg.evolution.Conditional` operator to generate complex evolution processes.\n",
        "\n"
      ]
    },
    {
      "cell_type": "code",
      "execution_count": 11,
      "metadata": {
        "executionInfo": {
          "elapsed": 61,
          "status": "ok",
          "timestamp": 1683844799276,
          "user": {
            "displayName": "",
            "userId": ""
          },
          "user_tz": 420
        },
        "id": "94Tn3C90quWh"
      },
      "outputs": [],
      "source": [
        "import matplotlib.pyplot as plt\n",
        "\n",
        "def render_scalar(scalar, steps=100):\n",
        "  ys = [scalar(step=i) for i in range(1, steps + 1)]\n",
        "  plt.plot(ys)"
      ]
    },
    {
      "cell_type": "markdown",
      "metadata": {
        "id": "EZt9w-4KmC7U"
      },
      "source": [
        "\u003ca name=\"basic-scalars\"\u003e\u003c/a\u003e\n",
        "### Basic Scalars"
      ]
    },
    {
      "cell_type": "markdown",
      "metadata": {
        "id": "CvhDBnnRYR75"
      },
      "source": [
        "\u003ca name=\"step\"\u003e\u003c/a\u003e\n",
        "#### **STEP**: Returns current step"
      ]
    },
    {
      "cell_type": "code",
      "execution_count": 12,
      "metadata": {
        "colab": {
          "height": 265
        },
        "executionInfo": {
          "elapsed": 285,
          "status": "ok",
          "timestamp": 1683844799691,
          "user": {
            "displayName": "",
            "userId": ""
          },
          "user_tz": 420
        },
        "id": "kaooGAjtYerV",
        "outputId": "2514c932-509e-44c2-ea85-08a30c57f166"
      },
      "outputs": [
        {
          "data": {
            "image/png": "[encoded data removed]",
            "text/plain": [
              "\u003cFigure size 600x400 with 1 Axes\u003e"
            ]
          },
          "metadata": {},
          "output_type": "display_data"
        }
      ],
      "source": [
        "s = pg.scalars.STEP\n",
        "render_scalar(s)"
      ]
    },
    {
      "cell_type": "markdown",
      "metadata": {
        "id": "PIdlI6hFYo_v"
      },
      "source": [
        "\u003ca name=\"lambda\"\u003e\u003c/a\u003e\n",
        "#### **Lambda**: Converts a function into a scalar"
      ]
    },
    {
      "cell_type": "code",
      "execution_count": 13,
      "metadata": {
        "colab": {
          "height": 265
        },
        "executionInfo": {
          "elapsed": 150,
          "status": "ok",
          "timestamp": 1683844800043,
          "user": {
            "displayName": "",
            "userId": ""
          },
          "user_tz": 420
        },
        "id": "DzoePDvdZBrQ",
        "outputId": "3fde9c41-6ccd-4ec7-bb7d-23fde7e0e18b"
      },
      "outputs": [
        {
          "data": {
            "image/png": "[encoded data removed]",
            "text/plain": [
              "\u003cFigure size 600x400 with 1 Axes\u003e"
            ]
          },
          "metadata": {},
          "output_type": "display_data"
        }
      ],
      "source": [
        "s = pg.scalars.Lambda(lambda step: step * 2) + 1\n",
        "render_scalar(s)"
      ]
    },
    {
      "cell_type": "markdown",
      "metadata": {
        "id": "qemzNHapZJd6"
      },
      "source": [
        "\u003ca name=\"constant\"\u003e\u003c/a\u003e\n",
        "#### **Constant**: Returns a constant as scalar"
      ]
    },
    {
      "cell_type": "code",
      "execution_count": 14,
      "metadata": {
        "colab": {
          "height": 265
        },
        "executionInfo": {
          "elapsed": 132,
          "status": "ok",
          "timestamp": 1683844800362,
          "user": {
            "displayName": "",
            "userId": ""
          },
          "user_tz": 420
        },
        "id": "uCHIAnoNZXJP",
        "outputId": "1323e398-1388-4256-e68b-66349c4f0c3d"
      },
      "outputs": [
        {
          "data": {
            "image/png": "[encoded data removed]",
            "text/plain": [
              "\u003cFigure size 600x400 with 1 Axes\u003e"
            ]
          },
          "metadata": {},
          "output_type": "display_data"
        }
      ],
      "source": [
        "s = pg.scalars.Constant(1)\n",
        "render_scalar(s)"
      ]
    },
    {
      "cell_type": "markdown",
      "metadata": {
        "id": "Rc2pHLhbm6Rw"
      },
      "source": [
        "\u003ca name=\"step-wise\"\u003e\u003c/a\u003e\n",
        "#### **StepWise**: Step-wise scalar"
      ]
    },
    {
      "cell_type": "code",
      "execution_count": 15,
      "metadata": {
        "colab": {
          "height": 265
        },
        "executionInfo": {
          "elapsed": 163,
          "status": "ok",
          "timestamp": 1683844800730,
          "user": {
            "displayName": "",
            "userId": ""
          },
          "user_tz": 420
        },
        "id": "HrJ6E11DvYfY",
        "outputId": "1cd15b38-e5dd-4656-8e07-e97226523b18"
      },
      "outputs": [
        {
          "data": {
            "image/png": "[encoded data removed]",
            "text/plain": [
              "\u003cFigure size 600x400 with 1 Axes\u003e"
            ]
          },
          "metadata": {},
          "output_type": "display_data"
        }
      ],
      "source": [
        "s = pg.scalars.StepWise([\n",
        "    (0.2, 1),\n",
        "    # pg.scalars.STEP means step within current phase\n",
        "    # in the context of step-wise scalar.\n",
        "    (0.2, pg.scalars.STEP),\n",
        "    (0.2, pg.scalars.STEP ** 1.5),\n",
        "], total_steps=100)\n",
        "render_scalar(s)"
      ]
    },
    {
      "cell_type": "markdown",
      "metadata": {
        "id": "gEsRGhIymZNG"
      },
      "source": [
        "\u003ca name=\"math-exps\"\u003e\u003c/a\u003e\n",
        "### Math Expressions"
      ]
    },
    {
      "cell_type": "markdown",
      "metadata": {
        "id": "WlnjP7qonCEo"
      },
      "source": [
        "\u003ca name=\"common-math-ops\"\u003e\u003c/a\u003e\n",
        "#### Common Math Operations"
      ]
    },
    {
      "cell_type": "code",
      "execution_count": 16,
      "metadata": {
        "colab": {
          "height": 268
        },
        "executionInfo": {
          "elapsed": 206,
          "status": "ok",
          "timestamp": 1683844801133,
          "user": {
            "displayName": "",
            "userId": ""
          },
          "user_tz": 420
        },
        "id": "CE7Fa34inJt6",
        "outputId": "eef0d865-787e-4fe1-ac89-d5888faed8a4"
      },
      "outputs": [
        {
          "data": {
            "image/png": "[encoded data removed]",
            "text/plain": [
              "\u003cFigure size 600x400 with 1 Axes\u003e"
            ]
          },
          "metadata": {},
          "output_type": "display_data"
        }
      ],
      "source": [
        "s = (-(pg.scalars.STEP * 2 // 3) ** 2 - 5 + 1) % 100\n",
        "render_scalar(s)"
      ]
    },
    {
      "cell_type": "markdown",
      "metadata": {
        "id": "cUXfO6UworPj"
      },
      "source": [
        "\u003ca name=\"ceiling\"\u003e\u003c/a\u003e\n",
        "#### **Ceiling**: Returns ceil(x)"
      ]
    },
    {
      "cell_type": "code",
      "execution_count": 17,
      "metadata": {
        "colab": {
          "height": 265
        },
        "executionInfo": {
          "elapsed": 146,
          "status": "ok",
          "timestamp": 1683844801447,
          "user": {
            "displayName": "",
            "userId": ""
          },
          "user_tz": 420
        },
        "id": "Jk-A9ZAzo1NE",
        "outputId": "3284cba8-8f57-45f7-edb4-a3ba06102c53"
      },
      "outputs": [
        {
          "data": {
            "image/png": "[encoded data removed]",
            "text/plain": [
              "\u003cFigure size 600x400 with 1 Axes\u003e"
            ]
          },
          "metadata": {},
          "output_type": "display_data"
        }
      ],
      "source": [
        "s = pg.scalars.Ceiling(pg.scalars.STEP / 10)\n",
        "render_scalar(s)"
      ]
    },
    {
      "cell_type": "markdown",
      "metadata": {
        "id": "9UBSONmPoytv"
      },
      "source": [
        "\u003ca name=\"floor\"\u003e\u003c/a\u003e\n",
        "#### **Floor**: Returns floor(x)"
      ]
    },
    {
      "cell_type": "code",
      "execution_count": 18,
      "metadata": {
        "colab": {
          "height": 265
        },
        "executionInfo": {
          "elapsed": 121,
          "status": "ok",
          "timestamp": 1683844801746,
          "user": {
            "displayName": "",
            "userId": ""
          },
          "user_tz": 420
        },
        "id": "qaB-vhPoo7_x",
        "outputId": "1b6689b7-e4f0-4df4-a411-0e7477a3f3e4"
      },
      "outputs": [
        {
          "data": {
            "image/png": "[encoded data removed]",
            "text/plain": [
              "\u003cFigure size 600x400 with 1 Axes\u003e"
            ]
          },
          "metadata": {},
          "output_type": "display_data"
        }
      ],
      "source": [
        "s = pg.scalars.Floor(pg.scalars.STEP / 10)\n",
        "render_scalar(s)"
      ]
    },
    {
      "cell_type": "markdown",
      "metadata": {
        "id": "dYIttltxn3jm"
      },
      "source": [
        "\u003ca name=\"sqrt\"\u003e\u003c/a\u003e\n",
        "#### **SquareRoot/sqrt**: Returns sqrt(x)"
      ]
    },
    {
      "cell_type": "code",
      "execution_count": 19,
      "metadata": {
        "colab": {
          "height": 265
        },
        "executionInfo": {
          "elapsed": 148,
          "status": "ok",
          "timestamp": 1683844802059,
          "user": {
            "displayName": "",
            "userId": ""
          },
          "user_tz": 420
        },
        "id": "Uc-ba6lnoGE8",
        "outputId": "c876b296-3141-4342-c97b-7cdf3bd13088"
      },
      "outputs": [
        {
          "data": {
            "image/png": "[encoded data removed]",
            "text/plain": [
              "\u003cFigure size 600x400 with 1 Axes\u003e"
            ]
          },
          "metadata": {},
          "output_type": "display_data"
        }
      ],
      "source": [
        "s = pg.scalars.sqrt(pg.scalars.STEP)\n",
        "render_scalar(s)"
      ]
    },
    {
      "cell_type": "markdown",
      "metadata": {
        "id": "spLvyqsqmoMi"
      },
      "source": [
        "\u003ca name=\"log\"\u003e\u003c/a\u003e\n",
        "#### **Log/log**: Returns log(x)"
      ]
    },
    {
      "cell_type": "code",
      "execution_count": 20,
      "metadata": {
        "colab": {
          "height": 265
        },
        "executionInfo": {
          "elapsed": 121,
          "status": "ok",
          "timestamp": 1683844802494,
          "user": {
            "displayName": "",
            "userId": ""
          },
          "user_tz": 420
        },
        "id": "sSVfhMdspTIl",
        "outputId": "b57722ae-80c3-4fcd-b08f-1e600b4e0ff1"
      },
      "outputs": [
        {
          "data": {
            "image/png": "[encoded data removed]",
            "text/plain": [
              "\u003cFigure size 600x400 with 1 Axes\u003e"
            ]
          },
          "metadata": {},
          "output_type": "display_data"
        }
      ],
      "source": [
        "s = pg.scalars.log(pg.scalars.STEP)\n",
        "render_scalar(s)"
      ]
    },
    {
      "cell_type": "markdown",
      "metadata": {
        "id": "GpPv6a7smdBS"
      },
      "source": [
        "\u003ca name=\"exp\"\u003e\u003c/a\u003e\n",
        "#### **Exp/exp**: Returns exp(x)"
      ]
    },
    {
      "cell_type": "code",
      "execution_count": 21,
      "metadata": {
        "colab": {
          "height": 265
        },
        "executionInfo": {
          "elapsed": 133,
          "status": "ok",
          "timestamp": 1683844802794,
          "user": {
            "displayName": "",
            "userId": ""
          },
          "user_tz": 420
        },
        "id": "AafjB0aFpXP_",
        "outputId": "42326985-8f8c-4bd7-c6d4-8170e8ff844d"
      },
      "outputs": [
        {
          "data": {
            "image/png": "[encoded data removed]",
            "text/plain": [
              "\u003cFigure size 600x400 with 1 Axes\u003e"
            ]
          },
          "metadata": {},
          "output_type": "display_data"
        }
      ],
      "source": [
        "s = pg.scalars.exp(pg.scalars.STEP / 10)\n",
        "render_scalar(s)"
      ]
    },
    {
      "cell_type": "markdown",
      "metadata": {
        "id": "0DAf65rImsoX"
      },
      "source": [
        "\u003ca name=\"sin\"\u003e\u003c/a\u003e\n",
        "#### **Sine/sin**: Returns sine(x)"
      ]
    },
    {
      "cell_type": "code",
      "execution_count": 22,
      "metadata": {
        "colab": {
          "height": 265
        },
        "executionInfo": {
          "elapsed": 170,
          "status": "ok",
          "timestamp": 1683844803154,
          "user": {
            "displayName": "",
            "userId": ""
          },
          "user_tz": 420
        },
        "id": "bYvTiPXsoklb",
        "outputId": "560d1556-7139-4dc3-a366-17d05126e78b"
      },
      "outputs": [
        {
          "data": {
            "image/png": "[encoded data removed]",
            "text/plain": [
              "\u003cFigure size 600x400 with 1 Axes\u003e"
            ]
          },
          "metadata": {},
          "output_type": "display_data"
        }
      ],
      "source": [
        "s = pg.scalars.sin(pg.scalars.STEP / 10)\n",
        "render_scalar(s)"
      ]
    },
    {
      "cell_type": "markdown",
      "metadata": {
        "id": "Q1USueJEmw02"
      },
      "source": [
        "\u003ca name=\"cos\"\u003e\u003c/a\u003e\n",
        "#### **Cosine/cos**: Returns Cosine(x)"
      ]
    },
    {
      "cell_type": "code",
      "execution_count": 23,
      "metadata": {
        "colab": {
          "height": 265
        },
        "executionInfo": {
          "elapsed": 204,
          "status": "ok",
          "timestamp": 1683844803563,
          "user": {
            "displayName": "",
            "userId": ""
          },
          "user_tz": 420
        },
        "id": "Wi8VyIznol9x",
        "outputId": "0751a54f-1218-494b-e072-30224f7bdb55"
      },
      "outputs": [
        {
          "data": {
            "image/png": "[encoded data removed]",
            "text/plain": [
              "\u003cFigure size 600x400 with 1 Axes\u003e"
            ]
          },
          "metadata": {},
          "output_type": "display_data"
        }
      ],
      "source": [
        "s = pg.scalars.cos(pg.scalars.STEP / 10)\n",
        "render_scalar(s)"
      ]
    },
    {
      "cell_type": "markdown",
      "metadata": {
        "id": "CsWI40Pwn_rz"
      },
      "source": [
        "\u003ca name=\"decay-helpers\"\u003e\u003c/a\u003e\n",
        "### Common Decay Helpers"
      ]
    },
    {
      "cell_type": "markdown",
      "metadata": {
        "id": "0aSGkQDqppgU"
      },
      "source": [
        "\u003ca name=\"linear\"\u003e\u003c/a\u003e\n",
        "#### **Linear**: Linear scaling based on STEPS"
      ]
    },
    {
      "cell_type": "code",
      "execution_count": 24,
      "metadata": {
        "colab": {
          "height": 265
        },
        "executionInfo": {
          "elapsed": 140,
          "status": "ok",
          "timestamp": 1683844803879,
          "user": {
            "displayName": "",
            "userId": ""
          },
          "user_tz": 420
        },
        "id": "v10tASd4p0Zm",
        "outputId": "357c603a-f416-43fd-cee5-34e10b3cc9fc"
      },
      "outputs": [
        {
          "data": {
            "image/png": "[encoded data removed]",
            "text/plain": [
              "\u003cFigure size 600x400 with 1 Axes\u003e"
            ]
          },
          "metadata": {},
          "output_type": "display_data"
        }
      ],
      "source": [
        "s = pg.scalars.linear(100, 0.5, 1.5)\n",
        "render_scalar(s)"
      ]
    },
    {
      "cell_type": "markdown",
      "metadata": {
        "id": "yDEjifA6uWku"
      },
      "source": [
        "\u003ca name=\"exponential\"\u003e\u003c/a\u003e\n",
        "#### **Exponential Decay**: Exponential scaling based on STEPS"
      ]
    },
    {
      "cell_type": "code",
      "execution_count": 25,
      "metadata": {
        "colab": {
          "height": 265
        },
        "executionInfo": {
          "elapsed": 150,
          "status": "ok",
          "timestamp": 1683844804218,
          "user": {
            "displayName": "",
            "userId": ""
          },
          "user_tz": 420
        },
        "id": "wH1WvUqgub_x",
        "outputId": "762e9000-2fc2-4825-ee68-74c37efeae9e"
      },
      "outputs": [
        {
          "data": {
            "image/png": "[encoded data removed]",
            "text/plain": [
              "\u003cFigure size 600x400 with 1 Axes\u003e"
            ]
          },
          "metadata": {},
          "output_type": "display_data"
        }
      ],
      "source": [
        "s = pg.scalars.exponential_decay(\n",
        "    decay_rate=0.9, decay_interval=10, start=2.0, staircase=False)\n",
        "render_scalar(s)"
      ]
    },
    {
      "cell_type": "markdown",
      "metadata": {
        "id": "n5RQl8l3ut9Q"
      },
      "source": [
        "\u003ca name=\"cos-decay\"\u003e\u003c/a\u003e\n",
        "#### **Cosine Decay**: Cosine decay based on STEPS"
      ]
    },
    {
      "cell_type": "code",
      "execution_count": 26,
      "metadata": {
        "colab": {
          "height": 265
        },
        "executionInfo": {
          "elapsed": 140,
          "status": "ok",
          "timestamp": 1683844804532,
          "user": {
            "displayName": "",
            "userId": ""
          },
          "user_tz": 420
        },
        "id": "LPVQMRVxu3pH",
        "outputId": "53679b9e-c5ce-406a-d5b3-87321cfa7ffe"
      },
      "outputs": [
        {
          "data": {
            "image/png": "[encoded data removed]",
            "text/plain": [
              "\u003cFigure size 600x400 with 1 Axes\u003e"
            ]
          },
          "metadata": {},
          "output_type": "display_data"
        }
      ],
      "source": [
        "s = pg.scalars.cosine_decay(\n",
        "    total_steps=100, start=2.0, end=1.0)\n",
        "render_scalar(s)"
      ]
    },
    {
      "cell_type": "markdown",
      "metadata": {
        "id": "pXF4Q36cvDkY"
      },
      "source": [
        "\u003ca name=\"cyclic\"\u003e\u003c/a\u003e\n",
        "#### **Cyclic**: Cyclic scaling based on STEPS"
      ]
    },
    {
      "cell_type": "code",
      "execution_count": 27,
      "metadata": {
        "colab": {
          "height": 265
        },
        "executionInfo": {
          "elapsed": 624,
          "status": "ok",
          "timestamp": 1683844805332,
          "user": {
            "displayName": "",
            "userId": ""
          },
          "user_tz": 420
        },
        "id": "3rB9GV-UvC2i",
        "outputId": "ca9fcdf4-20e7-44d2-87c2-10302b8ee2c4"
      },
      "outputs": [
        {
          "data": {
            "image/png": "[encoded data removed]",
            "text/plain": [
              "\u003cFigure size 600x400 with 1 Axes\u003e"
            ]
          },
          "metadata": {},
          "output_type": "display_data"
        }
      ],
      "source": [
        "s = pg.scalars.cyclic(cycle=20)\n",
        "render_scalar(s)"
      ]
    },
    {
      "cell_type": "markdown",
      "metadata": {
        "id": "D64Jv9AwmGLD"
      },
      "source": [
        "\u003ca name=\"random\"\u003e\u003c/a\u003e\n",
        "### Random Numbers"
      ]
    },
    {
      "cell_type": "code",
      "execution_count": 28,
      "metadata": {
        "executionInfo": {
          "elapsed": 66,
          "status": "ok",
          "timestamp": 1683844805561,
          "user": {
            "displayName": "",
            "userId": ""
          },
          "user_tz": 420
        },
        "id": "lFouBW-Vtvw6"
      },
      "outputs": [],
      "source": [
        "def render_distribution(scalar, steps=1000):\n",
        "  plt.hist([scalar(step=i) for i in range(1, steps + 1)])"
      ]
    },
    {
      "cell_type": "markdown",
      "metadata": {
        "id": "5TLDxh61ZWNE"
      },
      "source": [
        "\u003ca name=\"uniform\"\u003e\u003c/a\u003e\n",
        "#### **Uniform**: Returns a random number in uniform distribution."
      ]
    },
    {
      "cell_type": "code",
      "execution_count": 29,
      "metadata": {
        "colab": {
          "height": 265
        },
        "executionInfo": {
          "elapsed": 163,
          "status": "ok",
          "timestamp": 1683844805858,
          "user": {
            "displayName": "",
            "userId": ""
          },
          "user_tz": 420
        },
        "id": "wf1ZXh9bZv-A",
        "outputId": "7e1a57f6-0e0f-44b3-ef02-11ea98976808"
      },
      "outputs": [
        {
          "data": {
            "image/png": "[encoded data removed]",
            "text/plain": [
              "\u003cFigure size 600x400 with 1 Axes\u003e"
            ]
          },
          "metadata": {},
          "output_type": "display_data"
        }
      ],
      "source": [
        "# Returns a random int from a range.\n",
        "s = pg.scalars.Uniform(0, 1, seed=1)\n",
        "render_distribution(s)"
      ]
    },
    {
      "cell_type": "code",
      "execution_count": 30,
      "metadata": {
        "colab": {
          "height": 268
        },
        "executionInfo": {
          "elapsed": 166,
          "status": "ok",
          "timestamp": 1683844806194,
          "user": {
            "displayName": "",
            "userId": ""
          },
          "user_tz": 420
        },
        "id": "-vvqX7PHscc7",
        "outputId": "f8fb64c3-aba3-4ef3-fa49-8b0409c438a6"
      },
      "outputs": [
        {
          "data": {
            "image/png": "[encoded data removed]",
            "text/plain": [
              "\u003cFigure size 600x400 with 1 Axes\u003e"
            ]
          },
          "metadata": {},
          "output_type": "display_data"
        }
      ],
      "source": [
        "# Returns a random float from a range.\n",
        "s = pg.scalars.Uniform(0.0, 1.0, seed=1)\n",
        "render_distribution(s)"
      ]
    },
    {
      "cell_type": "markdown",
      "metadata": {
        "id": "xc6wszzuaT72"
      },
      "source": [
        "\u003ca name=\"triangular\"\u003e\u003c/a\u003e\n",
        "#### **Triangular**: Returns a random float number in triangular distribution."
      ]
    },
    {
      "cell_type": "code",
      "execution_count": 31,
      "metadata": {
        "colab": {
          "height": 265
        },
        "executionInfo": {
          "elapsed": 163,
          "status": "ok",
          "timestamp": 1683844806530,
          "user": {
            "displayName": "",
            "userId": ""
          },
          "user_tz": 420
        },
        "id": "M3L4coqxaT73",
        "outputId": "25c15c6b-2eb9-4eb7-db1e-1f930080cfc2"
      },
      "outputs": [
        {
          "data": {
            "image/png": "[encoded data removed]",
            "text/plain": [
              "\u003cFigure size 600x400 with 1 Axes\u003e"
            ]
          },
          "metadata": {},
          "output_type": "display_data"
        }
      ],
      "source": [
        "s = pg.scalars.Triangular(0.0, 1.0, seed=1)\n",
        "render_distribution(s)"
      ]
    },
    {
      "cell_type": "markdown",
      "metadata": {
        "id": "04urfrRHaJVp"
      },
      "source": [
        "\u003ca name=\"gaussian\"\u003e\u003c/a\u003e\n",
        "#### **Gaussian**: Returns a random float number in gaussian distribution."
      ]
    },
    {
      "cell_type": "code",
      "execution_count": 32,
      "metadata": {
        "colab": {
          "height": 265
        },
        "executionInfo": {
          "elapsed": 172,
          "status": "ok",
          "timestamp": 1683844806867,
          "user": {
            "displayName": "",
            "userId": ""
          },
          "user_tz": 420
        },
        "id": "pthhUxBpaQ1A",
        "outputId": "804c2121-c988-454e-8c7a-6a80d561bb1e"
      },
      "outputs": [
        {
          "data": {
            "image/png": "[encoded data removed]",
            "text/plain": [
              "\u003cFigure size 600x400 with 1 Axes\u003e"
            ]
          },
          "metadata": {},
          "output_type": "display_data"
        }
      ],
      "source": [
        "s = pg.scalars.Gaussian(mean=1.0, std=0.5, seed=1)\n",
        "render_distribution(s)"
      ]
    },
    {
      "cell_type": "markdown",
      "metadata": {
        "id": "tgoYuUBHafNA"
      },
      "source": [
        "\u003ca name=\"normal\"\u003e\u003c/a\u003e\n",
        "#### **Normal**: Returns a random float number in normal distribution."
      ]
    },
    {
      "cell_type": "code",
      "execution_count": 33,
      "metadata": {
        "colab": {
          "height": 265
        },
        "executionInfo": {
          "elapsed": 147,
          "status": "ok",
          "timestamp": 1683844807218,
          "user": {
            "displayName": "",
            "userId": ""
          },
          "user_tz": 420
        },
        "id": "1XsEYh_4amw2",
        "outputId": "0336bf73-f918-491d-c877-901b446ac6e0"
      },
      "outputs": [
        {
          "data": {
            "image/png": "[encoded data removed]",
            "text/plain": [
              "\u003cFigure size 600x400 with 1 Axes\u003e"
            ]
          },
          "metadata": {},
          "output_type": "display_data"
        }
      ],
      "source": [
        "s = pg.scalars.Normal(mean=1.0, std=0.5, seed=1)\n",
        "render_distribution(s)"
      ]
    },
    {
      "cell_type": "markdown",
      "metadata": {
        "id": "MUV8tNCbatQA"
      },
      "source": [
        "\u003ca name=\"log-normal\"\u003e\u003c/a\u003e\n",
        "#### **LogNormal**: Returns a random float number in log normal distribution."
      ]
    },
    {
      "cell_type": "code",
      "execution_count": 34,
      "metadata": {
        "colab": {
          "height": 265
        },
        "executionInfo": {
          "elapsed": 232,
          "status": "ok",
          "timestamp": 1683844807625,
          "user": {
            "displayName": "",
            "userId": ""
          },
          "user_tz": 420
        },
        "id": "Zh3ORqOEtjGp",
        "outputId": "6c8c7458-dd90-44b4-8cfb-2586010e3630"
      },
      "outputs": [
        {
          "data": {
            "image/png": "[encoded data removed]",
            "text/plain": [
              "\u003cFigure size 600x400 with 1 Axes\u003e"
            ]
          },
          "metadata": {},
          "output_type": "display_data"
        }
      ],
      "source": [
        "s = pg.scalars.LogNormal(mean=1.0, std=0.5, seed=1)\n",
        "render_distribution(s)"
      ]
    }
  ],
  "metadata": {
    "colab": {
      "last_runtime": {
        "build_target": "//learning/deepmind/dm_python:dm_notebook3",
        "kind": "private"
      },
      "name": "Fine Control the Evolution Process",
      "provenance": [
        {
          "file_id": "1cR3DQKdHnsbJG6rcaiKj6oztlZU9Cjt1",
          "timestamp": 1660606232261
        }
      ],
      "toc_visible": true
    },
    "kernelspec": {
      "display_name": "Python 3",
      "name": "python3"
    },
    "language_info": {
      "name": "python"
    }
  },
  "nbformat": 4,
  "nbformat_minor": 0
}

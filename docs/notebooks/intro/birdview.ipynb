{
  "cells": [
    {
      "cell_type": "markdown",
      "metadata": {
        "id": "YzCtfSLPk6Ps"
      },
      "source": [
        "# PyGlove: A Bird View\n",
        "\n",
        "[![Open in Colab](https://colab.research.google.com/assets/colab-badge.svg)](https://colab.research.google.com/github/google/pyglove/blob/main/docs/notebooks/intro/birdview.ipynb)\n",
        "\n",
        "PyGlove has many concepts. This notebook is for those who want to get the key ideas of PyGlove with concrete examples. It may take 5-10 minutes to read through this notebook, depending on your pace. \n",
        "\n",
        "By the end of this excercise, we expect you to have a brief understanding of symbolic object-oriented programming (SOOP). This will include the ability to develop symbolic classes and use them effectively, as well as an understanding of symbolic operations, events, placeholding, and detour. Additionally, you will see an important application of SOOP - program search, which is a complex programming task that can be easily expressed using PyGlove. With these knowledge, you will be well-equipped to explore the full depth and breadth of PyGlove in a variety of programming contexts."
      ]
    },
    {
      "cell_type": "code",
      "execution_count": null,
      "metadata": {
        "id": "4w3IL7GvI-Qd"
      },
      "outputs": [],
      "source": [
        "!pip install pyglove"
      ]
    },
    {
      "cell_type": "markdown",
      "metadata": {
        "id": "pFQ7WU0Vq1C9"
      },
      "source": [
        "## SOOP: The Foundation\n",
        "\n",
        "PyGlove introduces symbolic object-oriented programming (SOOP) based on the concept of symbolic objects, which can be utilized both as regular objects and manipulated based on their representations. Symbolic objects are instances of symbolic classes, here we use a simple symbolic `Foo` class to illustrate the basics features of symbolic objects. "
      ]
    },
    {
      "cell_type": "markdown",
      "metadata": {
        "id": "rxMTl0VEA5lK"
      },
      "source": [
        "### Developing Symbolic Classes\n",
        "First, symbolic classes can be created via the `@pg.symbolize` decorator:"
      ]
    },
    {
      "cell_type": "code",
      "execution_count": 2,
      "metadata": {
        "executionInfo": {
          "elapsed": 897,
          "status": "ok",
          "timestamp": 1683331999042,
          "user": {
            "displayName": "",
            "userId": ""
          },
          "user_tz": 420
        },
        "id": "OzoeJKKZqyix"
      },
      "outputs": [],
      "source": [
        "import pyglove as pg\n",
        "\n",
        "@pg.symbolize\n",
        "class Foo:\n",
        "  def __init__(self, x, y):\n",
        "    self.z = x + y\n",
        "  \n",
        "  def hello(self):\n",
        "    print('hello, pyglove!')"
      ]
    },
    {
      "cell_type": "markdown",
      "metadata": {
        "id": "fSavlZ7ZrhSa"
      },
      "source": [
        "Then we can create an instance of `Foo`, which is a symbolic object that can be used as usual."
      ]
    },
    {
      "cell_type": "code",
      "execution_count": 3,
      "metadata": {
        "executionInfo": {
          "elapsed": 5,
          "status": "ok",
          "timestamp": 1683331999191,
          "user": {
            "displayName": "",
            "userId": ""
          },
          "user_tz": 420
        },
        "id": "0Elg_mTnk3mG",
        "outputId": "46275328-9e67-4715-cbd9-ad58044937d6"
      },
      "outputs": [
        {
          "name": "stdout",
          "output_type": "stream",
          "text": [
            "hello, pyglove!\n"
          ]
        },
        {
          "data": {
            "text/plain": [
              "3"
            ]
          },
          "execution_count": 3,
          "metadata": {},
          "output_type": "execute_result"
        }
      ],
      "source": [
        "foo = Foo(1, 2)\n",
        "foo.hello()\n",
        "foo.z"
      ]
    },
    {
      "cell_type": "markdown",
      "metadata": {
        "id": "j6V9kOchBF9g"
      },
      "source": [
        "### Symbolic Operations\n",
        "\n",
        "Symbolic operations can be applied on symbolic objects.\n",
        "First, we can print the human-readable symbolic representation of `foo` object:"
      ]
    },
    {
      "cell_type": "code",
      "execution_count": 4,
      "metadata": {
        "executionInfo": {
          "elapsed": 4,
          "status": "ok",
          "timestamp": 1683331999366,
          "user": {
            "displayName": "",
            "userId": ""
          },
          "user_tz": 420
        },
        "id": "KtfzmchSsttp",
        "outputId": "d605acba-c8cc-4d62-d470-e246d8b4636b"
      },
      "outputs": [
        {
          "data": {
            "text/plain": [
              "Foo(x=1, y=2)"
            ]
          },
          "execution_count": 4,
          "metadata": {},
          "output_type": "execute_result"
        }
      ],
      "source": [
        "foo"
      ]
    },
    {
      "cell_type": "markdown",
      "metadata": {
        "id": "JikyEdeys9DZ"
      },
      "source": [
        "`foo` is also mutable, the internal state `z` is automatically recomputed from the new `x` and the old `y`."
      ]
    },
    {
      "cell_type": "code",
      "execution_count": 5,
      "metadata": {
        "executionInfo": {
          "elapsed": 4,
          "status": "ok",
          "timestamp": 1683331999541,
          "user": {
            "displayName": "",
            "userId": ""
          },
          "user_tz": 420
        },
        "id": "UquPziOcs8Xg",
        "outputId": "90173bda-8043-4686-e01a-ba681c5dc584"
      },
      "outputs": [
        {
          "data": {
            "text/plain": [
              "4"
            ]
          },
          "execution_count": 5,
          "metadata": {},
          "output_type": "execute_result"
        }
      ],
      "source": [
        "foo.rebind(x=2)\n",
        "foo.z"
      ]
    },
    {
      "cell_type": "markdown",
      "metadata": {
        "id": "MckJy_4ktRsk"
      },
      "source": [
        "But where is `y` stored? From the class definition, it's not assigned to any member of `foo`. The answer is, `y` is stored as a symbolic attribute of `foo`, which can be accessed via the `sym_init_args` property:"
      ]
    },
    {
      "cell_type": "code",
      "execution_count": 6,
      "metadata": {
        "executionInfo": {
          "elapsed": 4,
          "status": "ok",
          "timestamp": 1683331999717,
          "user": {
            "displayName": "",
            "userId": ""
          },
          "user_tz": 420
        },
        "id": "hi_4jrJEtRPH",
        "outputId": "935e2dcb-13a4-4fc1-fae5-2da9e57a74e8"
      },
      "outputs": [
        {
          "data": {
            "text/plain": [
              "{x=2, y=2}"
            ]
          },
          "execution_count": 6,
          "metadata": {},
          "output_type": "execute_result"
        }
      ],
      "source": [
        "foo.sym_init_args"
      ]
    },
    {
      "cell_type": "markdown",
      "metadata": {
        "id": "ggQnarYK0fVl"
      },
      "source": [
        "Moreover, we can query `foo`'s symbolic representation:"
      ]
    },
    {
      "cell_type": "code",
      "execution_count": 7,
      "metadata": {
        "executionInfo": {
          "elapsed": 3,
          "status": "ok",
          "timestamp": 1683331999860,
          "user": {
            "displayName": "",
            "userId": ""
          },
          "user_tz": 420
        },
        "id": "rfLjD9Iu0ksB",
        "outputId": "48f32bc0-161a-462d-cca8-9d267a9d101c"
      },
      "outputs": [
        {
          "data": {
            "text/plain": [
              "{'x': 2, 'y': 2}"
            ]
          },
          "execution_count": 7,
          "metadata": {},
          "output_type": "execute_result"
        }
      ],
      "source": [
        "pg.query(foo, where=lambda v: isinstance(v, int))"
      ]
    },
    {
      "cell_type": "markdown",
      "metadata": {
        "id": "pX4eXIvUtnii"
      },
      "source": [
        "Another important aspect of symbolic object is *symbolic equality*, which is\n",
        "the critical for comparing if two concepts are the same. Symbolic comparison is performed based on neither reference, nor their internal states, but solely based on their symbolic representations:"
      ]
    },
    {
      "cell_type": "code",
      "execution_count": 8,
      "metadata": {
        "executionInfo": {
          "elapsed": 57,
          "status": "ok",
          "timestamp": 1683332000076,
          "user": {
            "displayName": "",
            "userId": ""
          },
          "user_tz": 420
        },
        "id": "QWdHh1wcuB0D",
        "outputId": "f5e74d48-53e0-44ee-e47a-c2b7ca29ebce"
      },
      "outputs": [
        {
          "name": "stdout",
          "output_type": "stream",
          "text": [
            "True\n",
            "False\n"
          ]
        }
      ],
      "source": [
        "print(pg.eq(foo, Foo(2, 2)))\n",
        "print(pg.eq(foo, Foo(2, 3)))"
      ]
    },
    {
      "cell_type": "markdown",
      "metadata": {
        "id": "hqYHq_T7KivQ"
      },
      "source": [
        "Similarly, we can *symbolically compare* two symbolic objects:"
      ]
    },
    {
      "cell_type": "code",
      "execution_count": 9,
      "metadata": {
        "executionInfo": {
          "elapsed": 4,
          "status": "ok",
          "timestamp": 1683332000354,
          "user": {
            "displayName": "",
            "userId": ""
          },
          "user_tz": 420
        },
        "id": "il39spqjKg2f",
        "outputId": "b23fa819-901d-4e58-d83b-956173198f4e"
      },
      "outputs": [
        {
          "name": "stdout",
          "output_type": "stream",
          "text": [
            "True\n",
            "False\n"
          ]
        }
      ],
      "source": [
        "print(pg.lt(foo, Foo(2, 3)))\n",
        "print(pg.lt(foo, Foo(0, 3)))"
      ]
    },
    {
      "cell_type": "markdown",
      "metadata": {
        "id": "5ivTBC3vuV0q"
      },
      "source": [
        "We can also get the *symbolic hash* from it, which is computed soely from symbolic representations:"
      ]
    },
    {
      "cell_type": "code",
      "execution_count": 10,
      "metadata": {
        "executionInfo": {
          "elapsed": 4,
          "status": "ok",
          "timestamp": 1683332000526,
          "user": {
            "displayName": "",
            "userId": ""
          },
          "user_tz": 420
        },
        "id": "CU_y864suaDN",
        "outputId": "f012d97c-353f-44fe-a514-b24f16fa63fb"
      },
      "outputs": [
        {
          "name": "stdout",
          "output_type": "stream",
          "text": [
            "1925191923907587291\n",
            "1925191923907587291\n"
          ]
        }
      ],
      "source": [
        "print(pg.hash(foo))\n",
        "print(pg.hash(Foo(2, 2)))"
      ]
    },
    {
      "cell_type": "markdown",
      "metadata": {
        "id": "j6MoKBicumBE"
      },
      "source": [
        "Moreover, `foo` can be *symbolically cloned*:"
      ]
    },
    {
      "cell_type": "code",
      "execution_count": 11,
      "metadata": {
        "executionInfo": {
          "elapsed": 3,
          "status": "ok",
          "timestamp": 1683332000678,
          "user": {
            "displayName": "",
            "userId": ""
          },
          "user_tz": 420
        },
        "id": "vjlZD08guwK7",
        "outputId": "c63b86f8-effd-4bea-8652-da2b74b507b0"
      },
      "outputs": [
        {
          "name": "stdout",
          "output_type": "stream",
          "text": [
            "True\n",
            "True\n"
          ]
        }
      ],
      "source": [
        "foo2 = foo.clone()\n",
        "print(foo2 != foo)\n",
        "print(pg.eq(foo2, foo))"
      ]
    },
    {
      "cell_type": "markdown",
      "metadata": {
        "id": "EDJVlu4Su6lG"
      },
      "source": [
        "It can also be *symbolically serialized* and *deserialized*:"
      ]
    },
    {
      "cell_type": "code",
      "execution_count": 12,
      "metadata": {
        "executionInfo": {
          "elapsed": 3,
          "status": "ok",
          "timestamp": 1683332000900,
          "user": {
            "displayName": "",
            "userId": ""
          },
          "user_tz": 420
        },
        "id": "fg0HXONyu5_Q",
        "outputId": "e03bc5b5-bc00-4048-f328-2d84dd23ad69"
      },
      "outputs": [
        {
          "name": "stdout",
          "output_type": "stream",
          "text": [
            "{\"_type\": \"__main__.Foo\", \"x\": 2, \"y\": 2}\n",
            "True\n"
          ]
        }
      ],
      "source": [
        "json_str = foo.to_json_str()\n",
        "print(json_str)\n",
        "\n",
        "foo3 = pg.from_json_str(json_str)\n",
        "print(pg.eq(foo3, foo))"
      ]
    },
    {
      "cell_type": "markdown",
      "metadata": {
        "id": "Mx-H3I4axUUo"
      },
      "source": [
        "### Symbolic Validation\n",
        "\n",
        "Then let's take a look at symbolic validation. What if we want to limit the value of `x` and `y` to be positive integers? We can pass a list of symbolic field definitions to `@pg.symbolize`:"
      ]
    },
    {
      "cell_type": "code",
      "execution_count": 13,
      "metadata": {
        "executionInfo": {
          "elapsed": 2,
          "status": "ok",
          "timestamp": 1683332001089,
          "user": {
            "displayName": "",
            "userId": ""
          },
          "user_tz": 420
        },
        "id": "1IgtVaYSx1E6"
      },
      "outputs": [],
      "source": [
        "@pg.symbolize([\n",
        "  ('x', pg.typing.Int(min_value=1)),\n",
        "  ('y', pg.typing.Int(min_value=1)),\n",
        "])\n",
        "class Foo:\n",
        "  def __init__(self, x, y):\n",
        "    self.z = x + y"
      ]
    },
    {
      "cell_type": "markdown",
      "metadata": {
        "id": "0iW4Y8VczHiL"
      },
      "source": [
        "Then we can see the instantiation on `Foo` will fail since the value of `x` is not positive."
      ]
    },
    {
      "cell_type": "code",
      "execution_count": 14,
      "metadata": {
        "executionInfo": {
          "elapsed": 5,
          "status": "ok",
          "timestamp": 1683332001266,
          "user": {
            "displayName": "",
            "userId": ""
          },
          "user_tz": 420
        },
        "id": "BII1ml7pyDuy",
        "outputId": "6a33eb09-8438-435e-80f4-57cc8a8e9052"
      },
      "outputs": [
        {
          "name": "stdout",
          "output_type": "stream",
          "text": [
            "Error Value 0 is out of range (min=1, max=None). (path=x)\n"
          ]
        }
      ],
      "source": [
        "\n",
        "try:\n",
        "  Foo(0, 1)\n",
        "except ValueError as e:\n",
        "  print('Error', e)"
      ]
    },
    {
      "cell_type": "markdown",
      "metadata": {
        "id": "wT84zHylzVII"
      },
      "source": [
        "Value specifications of symbolic objects can also be programmed:"
      ]
    },
    {
      "cell_type": "code",
      "execution_count": 15,
      "metadata": {
        "executionInfo": {
          "elapsed": 76,
          "status": "ok",
          "timestamp": 1683332001521,
          "user": {
            "displayName": "",
            "userId": ""
          },
          "user_tz": 420
        },
        "id": "707907eDzlqh",
        "outputId": "6e227158-085a-451d-977c-d7abcc89658a"
      },
      "outputs": [
        {
          "data": {
            "text/plain": [
              "Bar(x=\u003cfunction \u003clambda\u003e at 0x7fdd31d3fb50\u003e)"
            ]
          },
          "execution_count": 15,
          "metadata": {},
          "output_type": "execute_result"
        }
      ],
      "source": [
        "def value_or_factory(value_spec):\n",
        "  return pg.typing.Union([\n",
        "      value_spec,\n",
        "      pg.typing.Callable(returns=value_spec)\n",
        "  ])\n",
        "\n",
        "@pg.symbolize([\n",
        "  ('x', value_or_factory(pg.typing.Int(min_value=1))),\n",
        "])\n",
        "class Bar:\n",
        "  def __init__(self, x):\n",
        "    pass\n",
        "\n",
        "# Okay!\n",
        "Bar(1)\n",
        "\n",
        "# Okay too!\n",
        "Bar(lambda: 1)"
      ]
    },
    {
      "cell_type": "markdown",
      "metadata": {
        "id": "rZzX-GkJA8cl"
      },
      "source": [
        "### Symbolic Events"
      ]
    },
    {
      "cell_type": "markdown",
      "metadata": {
        "id": "TtNDZzc7wW4B"
      },
      "source": [
        "Symbolic objects are also aware of its containing object and the topology:"
      ]
    },
    {
      "cell_type": "code",
      "execution_count": 16,
      "metadata": {
        "executionInfo": {
          "elapsed": 4,
          "status": "ok",
          "timestamp": 1683332001709,
          "user": {
            "displayName": "",
            "userId": ""
          },
          "user_tz": 420
        },
        "id": "LlIboBlFwNRf",
        "outputId": "6b671fa5-3004-4abf-d2da-02f48d7fc0aa"
      },
      "outputs": [
        {
          "name": "stdout",
          "output_type": "stream",
          "text": [
            "None\n",
            "\n",
            "{\n",
            "  x = Foo(\n",
            "    x = 2,\n",
            "    y = 2\n",
            "  )\n",
            "}\n",
            "x\n",
            "None\n",
            "\n"
          ]
        }
      ],
      "source": [
        "foo = pg.from_json_str(json_str)\n",
        "print(foo.sym_parent)\n",
        "print(foo.sym_path)\n",
        "\n",
        "# When `foo` is assigned to a symbolic dict,\n",
        "# its `sym_parent` property get updated.\n",
        "d = pg.Dict(x=foo)\n",
        "print(foo.sym_parent)\n",
        "print(foo.sym_path)\n",
        "\n",
        "# When the parent dict reassign the key to another\n",
        "# value, `foo.sym_parent` get updated again.\n",
        "d.x = 1\n",
        "print(foo.sym_parent)\n",
        "print(foo.sym_path)"
      ]
    },
    {
      "cell_type": "markdown",
      "metadata": {
        "id": "ugp9eMUu2gNs"
      },
      "source": [
        "We can also subscribe to such events:"
      ]
    },
    {
      "cell_type": "code",
      "execution_count": 17,
      "metadata": {
        "executionInfo": {
          "elapsed": 3,
          "status": "ok",
          "timestamp": 1683332001925,
          "user": {
            "displayName": "",
            "userId": ""
          },
          "user_tz": 420
        },
        "id": "PySl6DYK3eW-",
        "outputId": "5ab10798-276e-43fa-93ad-c7f65fd6a180"
      },
      "outputs": [
        {
          "name": "stdout",
          "output_type": "stream",
          "text": [
            "Path has changed from  to x\n",
            "Parent has changed from None to {}\n",
            "Parent has changed from {x=Foo(x=1, y=2)} to None\n",
            "Path has changed from x to \n"
          ]
        }
      ],
      "source": [
        "@pg.symbolize([\n",
        "  ('x', pg.typing.Int(min_value=1)),\n",
        "  ('y', pg.typing.Int(min_value=1)),\n",
        "])\n",
        "class Foo:\n",
        "  def __init__(self, x, y):\n",
        "    self.z = x + y\n",
        "\n",
        "  def _on_parent_change(self, old_parent, new_parent):\n",
        "    super()._on_parent_change(old_parent, new_parent)\n",
        "    print('Parent has changed from %r to %r'\n",
        "          % (old_parent, new_parent))\n",
        "\n",
        "  def _on_path_change(self, old_path, new_path):\n",
        "    super()._on_path_change(old_path, new_path)\n",
        "    print('Path has changed from %r to %r'\n",
        "          % (old_path, new_path))\n",
        "\n",
        "f = Foo(1, 2)\n",
        "d = pg.Dict(x=f)\n",
        "d.x = 1"
      ]
    },
    {
      "cell_type": "markdown",
      "metadata": {
        "id": "-055dv-2-3We"
      },
      "source": [
        "### Using Symbolic Functions\n",
        "Besides symbolic classes, functions can be symbolized too:"
      ]
    },
    {
      "cell_type": "code",
      "execution_count": 18,
      "metadata": {
        "executionInfo": {
          "elapsed": 2,
          "status": "ok",
          "timestamp": 1683332002151,
          "user": {
            "displayName": "",
            "userId": ""
          },
          "user_tz": 420
        },
        "id": "joiZp47L-7q6"
      },
      "outputs": [],
      "source": [
        "@pg.symbolize\n",
        "def foo(x, y):\n",
        "  return x + y"
      ]
    },
    {
      "cell_type": "markdown",
      "metadata": {
        "id": "5p18yDF9_As3"
      },
      "source": [
        "An instance of a symbolic function is also a symbolic object, since the symbolic function is converted into a symbolic class with a `__call__` method:\n"
      ]
    },
    {
      "cell_type": "code",
      "execution_count": 19,
      "metadata": {
        "executionInfo": {
          "elapsed": 66,
          "status": "ok",
          "timestamp": 1683332002390,
          "user": {
            "displayName": "",
            "userId": ""
          },
          "user_tz": 420
        },
        "id": "IKE0wy46_Kzs",
        "outputId": "839ea72d-e777-44a2-d080-dbf9c68514d9"
      },
      "outputs": [
        {
          "name": "stdout",
          "output_type": "stream",
          "text": [
            "foo(\n",
            "  x = 1,\n",
            "  y = 2\n",
            ")\n"
          ]
        },
        {
          "data": {
            "text/plain": [
              "3"
            ]
          },
          "execution_count": 19,
          "metadata": {},
          "output_type": "execute_result"
        }
      ],
      "source": [
        "# `f` is a symbolic object representing a bound\n",
        "# symbolic function `foo`.\n",
        "f = foo(1, 2)\n",
        "print(f)\n",
        "\n",
        "# It can be invoked separately.\n",
        "f()"
      ]
    },
    {
      "cell_type": "markdown",
      "metadata": {
        "id": "WMTJZ06e_ffO"
      },
      "source": [
        "Besides the capabilities inherited from symbolic classes, symbolic functions are very powerful in its advanced binding capabilities:"
      ]
    },
    {
      "cell_type": "code",
      "execution_count": 20,
      "metadata": {
        "executionInfo": {
          "elapsed": 6,
          "status": "ok",
          "timestamp": 1683332002578,
          "user": {
            "displayName": "",
            "userId": ""
          },
          "user_tz": 420
        },
        "id": "Sm65KQb2_ouI",
        "outputId": "56f0b6d0-b28a-4ce0-95ef-e1820c56313a"
      },
      "outputs": [
        {
          "name": "stdout",
          "output_type": "stream",
          "text": [
            "foo(\n",
            "  x = 1,\n",
            "  y = MISSING_VALUE(Any())\n",
            ")\n",
            "2\n",
            "MISSING_VALUE(Any())\n",
            "foo(\n",
            "  x = 1,\n",
            "  y = 2\n",
            ")\n",
            "foo(\n",
            "  x = 2,\n",
            "  y = 2\n",
            ")\n",
            "4\n"
          ]
        },
        {
          "data": {
            "text/plain": [
              "5"
            ]
          },
          "execution_count": 20,
          "metadata": {},
          "output_type": "execute_result"
        }
      ],
      "source": [
        "# Partial binding with x=1:\n",
        "f = foo(1)\n",
        "print(f)\n",
        "\n",
        "# Call `f` with `y` specified at call time,\n",
        "# however, `y` is not bound with `f`.\n",
        "print(f(y=1))\n",
        "print(f.y)\n",
        "\n",
        "# Incrementally bind y=2:\n",
        "f.y = 2\n",
        "print(f)\n",
        "\n",
        "# Rebind x to 2:\n",
        "f.rebind(x=2)\n",
        "print(f)\n",
        "print(f())\n",
        "\n",
        "# Override args at call time:\n",
        "f(x=3, override_args=True)"
      ]
    },
    {
      "cell_type": "markdown",
      "metadata": {
        "id": "mbXOy0Fv4ReX"
      },
      "source": [
        "### Symbolic Placeholding\n",
        "\n",
        "A symbolic object can be placeheld with pure symbolic values, which\n",
        "represents a high-level concept that is not materialized yet for execution:"
      ]
    },
    {
      "cell_type": "code",
      "execution_count": 21,
      "metadata": {
        "executionInfo": {
          "elapsed": 3,
          "status": "ok",
          "timestamp": 1683332002852,
          "user": {
            "displayName": "",
            "userId": ""
          },
          "user_tz": 420
        },
        "id": "5ZVQKVHs4j3Q",
        "outputId": "0a504116-1548-40f0-f828-be19b7e3976b"
      },
      "outputs": [
        {
          "name": "stdout",
          "output_type": "stream",
          "text": [
            "Foo(\n",
            "  x = TBD(),\n",
            "  y = TBD()\n",
            ")\n",
            "True\n"
          ]
        }
      ],
      "source": [
        "class TBD(pg.symbolic.PureSymbolic, pg.Object):\n",
        "  pass\n",
        "\n",
        "foo = Foo(TBD(), TBD())\n",
        "print(foo)\n",
        "print(pg.is_abstract(foo))"
      ]
    },
    {
      "cell_type": "code",
      "execution_count": 22,
      "metadata": {
        "executionInfo": {
          "elapsed": 7,
          "status": "ok",
          "timestamp": 1683332003039,
          "user": {
            "displayName": "",
            "userId": ""
          },
          "user_tz": 420
        },
        "id": "2TJCGHXM5Uks",
        "outputId": "16230cb7-5450-4042-93dd-0f27411b30e3"
      },
      "outputs": [
        {
          "name": "stdout",
          "output_type": "stream",
          "text": [
            "Error 'Foo' object has no attribute 'z'\n"
          ]
        }
      ],
      "source": [
        "try:\n",
        "  # `foo` is abstract, so `Foo.__init__` is not yet\n",
        "  # called on `foo`.\n",
        "  foo.z\n",
        "except AttributeError as e:\n",
        "  print('Error', e)"
      ]
    },
    {
      "cell_type": "markdown",
      "metadata": {
        "id": "e3yEe4_44Mzm"
      },
      "source": [
        "### Symbolic Detour\n",
        "Sometimes, objects we care about are not exposed as function or class arguments:\n",
        "\n"
      ]
    },
    {
      "cell_type": "code",
      "execution_count": 23,
      "metadata": {
        "executionInfo": {
          "elapsed": 59,
          "status": "ok",
          "timestamp": 1683332003308,
          "user": {
            "displayName": "",
            "userId": ""
          },
          "user_tz": 420
        },
        "id": "oo9Nkm-gB1W4",
        "outputId": "2f33eaad-18ff-4bad-edbf-fa63e7dd384b"
      },
      "outputs": [
        {
          "data": {
            "text/plain": [
              "3"
            ]
          },
          "execution_count": 23,
          "metadata": {},
          "output_type": "execute_result"
        }
      ],
      "source": [
        "class A:\n",
        "\n",
        "  def __init__(self, x, y):\n",
        "    self.x = x\n",
        "    self.y = y\n",
        "\n",
        "  def __call__(self):\n",
        "    return self.x + self.y\n",
        "\n",
        "def my_fun():\n",
        "  return A(1, 2)()\n",
        "\n",
        "my_fun()"
      ]
    },
    {
      "cell_type": "markdown",
      "metadata": {
        "id": "P8jsiQmZCHMT"
      },
      "source": [
        "Can we modify `my_fun`'s behavior without modifying its source code? Symbolic detour is the tool for that purpose:"
      ]
    },
    {
      "cell_type": "code",
      "execution_count": 24,
      "metadata": {
        "executionInfo": {
          "elapsed": 3,
          "status": "ok",
          "timestamp": 1683332003468,
          "user": {
            "displayName": "",
            "userId": ""
          },
          "user_tz": 420
        },
        "id": "nTG0WyAmCWKI",
        "outputId": "c7922071-3ad9-49f9-d4e4-e8a4441525c6"
      },
      "outputs": [
        {
          "name": "stdout",
          "output_type": "stream",
          "text": [
            "2\n",
            "3\n"
          ]
        }
      ],
      "source": [
        "class B(A):\n",
        "\n",
        "  def __call__(self):\n",
        "    return self.x * self.y\n",
        "\n",
        "# Within this context manager,\n",
        "# A.__new__ is redirected to B.__new__.\\\n",
        "# NOTE: `pg.detour` can detour Python\n",
        "# classes that are even not symbolized.\n",
        "# However, it cannot be used to detour\n",
        "# builtins.\n",
        "with pg.detour([(A, B)]):\n",
        "  print(my_fun())\n",
        "\n",
        "# Out of the context manager,\n",
        "# A.__new__ remains its original definition.\n",
        "print(my_fun())  "
      ]
    },
    {
      "cell_type": "markdown",
      "metadata": {
        "id": "HJV1TQm8LZyd"
      },
      "source": [
        "## Program Search"
      ]
    },
    {
      "cell_type": "markdown",
      "metadata": {
        "id": "zxCVLLaU5sFT"
      },
      "source": [
        "Based on symbolic placeholding, PyGlove provides a few pure symbolic classes called *hyper primitives* which are helpful in representing a space of objects:"
      ]
    },
    {
      "cell_type": "code",
      "execution_count": 25,
      "metadata": {
        "executionInfo": {
          "elapsed": 5,
          "status": "ok",
          "timestamp": 1683332003662,
          "user": {
            "displayName": "",
            "userId": ""
          },
          "user_tz": 420
        },
        "id": "FL63ST4H56UN",
        "outputId": "d4ce8dc9-384d-4e0b-b131-0a2a13208388"
      },
      "outputs": [
        {
          "name": "stdout",
          "output_type": "stream",
          "text": [
            "Space({\n",
            "  0 = 'x': Choices(num_choices=1, [\n",
            "    (0): 1\n",
            "    (1): 2\n",
            "  ])\n",
            "})\n",
            "2\n"
          ]
        }
      ],
      "source": [
        "# A space of `Foo` with `x` chosen from [1, 2] and a fixed `y`.\n",
        "foo_space = Foo(pg.oneof([1, 2]), 3)\n",
        "\n",
        "# We can inspect the space by looking at its genome shape:\n",
        "print(pg.dna_spec(foo_space))\n",
        "\n",
        "# Or looking at the size of the space:\n",
        "print(pg.dna_spec(foo_space).space_size)"
      ]
    },
    {
      "cell_type": "markdown",
      "metadata": {
        "id": "To9oaDJP62dT"
      },
      "source": [
        "For `foo_space` to be materialized, we need to provide the\n",
        "choice for `x`:\n"
      ]
    },
    {
      "cell_type": "code",
      "execution_count": 26,
      "metadata": {
        "executionInfo": {
          "elapsed": 2,
          "status": "ok",
          "timestamp": 1683332003836,
          "user": {
            "displayName": "",
            "userId": ""
          },
          "user_tz": 420
        },
        "id": "ZEcjSWKe68le",
        "outputId": "ee48655c-9506-433c-f4e4-09c5b31ea089"
      },
      "outputs": [
        {
          "name": "stdout",
          "output_type": "stream",
          "text": [
            "Foo(\n",
            "  x = 1,\n",
            "  y = 3\n",
            ")\n"
          ]
        }
      ],
      "source": [
        "# Providing a genome to the space so it can be converted to\n",
        "# a sample in the space:\n",
        "foo = pg.materialize(foo_space, pg.DNA(0))\n",
        "print(foo)"
      ]
    },
    {
      "cell_type": "markdown",
      "metadata": {
        "id": "tTWB2cmV7MIC"
      },
      "source": [
        "We can also use hyper primitives to generate samples from the space:"
      ]
    },
    {
      "cell_type": "code",
      "execution_count": 27,
      "metadata": {
        "executionInfo": {
          "elapsed": 64,
          "status": "ok",
          "timestamp": 1683332004080,
          "user": {
            "displayName": "",
            "userId": ""
          },
          "user_tz": 420
        },
        "id": "UOUD_fkl7Vxw",
        "outputId": "2318b3c4-f7c0-4808-c0e8-a48a3e352e54"
      },
      "outputs": [
        {
          "name": "stdout",
          "output_type": "stream",
          "text": [
            "[Foo(x=1, y=3), Foo(x=1, y=4), Foo(x=2, y=3), Foo(x=2, y=4)]\n",
            "[Foo(x=1, y=3), Foo(x=2, y=3), Foo(x=2, y=4)]\n"
          ]
        }
      ],
      "source": [
        "# Generate all possible examples from the space.\n",
        "foo_space = Foo(pg.oneof([1, 2]), pg.oneof([3, 4]))\n",
        "print(list(pg.iter(foo_space)))\n",
        "\n",
        "# Random sample 3 examples:\n",
        "print([x for x in pg.random_sample(foo_space, num_examples=3, seed=1)])"
      ]
    },
    {
      "cell_type": "markdown",
      "metadata": {
        "id": "gK81vSeB8OOR"
      },
      "source": [
        "Based on the search space,  we can evolve a `Foo` to maximize the evaluations:"
      ]
    },
    {
      "cell_type": "code",
      "execution_count": 28,
      "metadata": {
        "executionInfo": {
          "elapsed": 11028,
          "status": "ok",
          "timestamp": 1683332015267,
          "user": {
            "displayName": "",
            "userId": ""
          },
          "user_tz": 420
        },
        "id": "fqPgjPii8Nin",
        "outputId": "8eb244f3-ad72-4808-e5ea-2377f49e9b2e"
      },
      "outputs": [
        {
          "name": "stdout",
          "output_type": "stream",
          "text": [
            "Space size 10000\n"
          ]
        }
      ],
      "source": [
        "# Create a larger search space.\n",
        "foo_space = Foo(pg.oneof(range(1, 101)), pg.oneof(range(1, 101)))\n",
        "print('Space size', pg.dna_spec(foo_space).space_size)\n",
        "\n",
        "# Use regularized evolution as search algorithm.\n",
        "# Please refer to https://arxiv.org/abs/1802.01548\n",
        "search_algorithm = pg.evolution.regularized_evolution(\n",
        "    pg.evolution.mutators.Uniform(),\n",
        "    population_size=100,\n",
        "    tournament_size=20)\n",
        "\n",
        "# Perform the search, using `z` (x + y) as the reward.\n",
        "rewards = []\n",
        "for foo, feedback in pg.sample(\n",
        "    foo_space, search_algorithm, num_examples=500):\n",
        "  reward = foo.z\n",
        "  feedback(reward)\n",
        "  rewards.append(reward)"
      ]
    },
    {
      "cell_type": "code",
      "execution_count": 29,
      "metadata": {
        "colab": {
          "height": 265
        },
        "executionInfo": {
          "elapsed": 314,
          "status": "ok",
          "timestamp": 1683332015727,
          "user": {
            "displayName": "",
            "userId": ""
          },
          "user_tz": 420
        },
        "id": "ic48k4kW9vQc",
        "outputId": "397c1769-385e-40c6-e3cb-4cdc6e6b6725"
      },
      "outputs": [
        {
          "data": {
            "image/png": "[encoded data removed]",
            "text/plain": [
              "\u003cFigure size 600x400 with 1 Axes\u003e"
            ]
          },
          "metadata": {},
          "output_type": "display_data"
        }
      ],
      "source": [
        "# Plot the reward over time:\n",
        "import matplotlib.pyplot as plt\n",
        "plt.plot(range(len(rewards)), rewards)\n",
        "plt.show()"
      ]
    },
    {
      "cell_type": "markdown",
      "metadata": {
        "id": "Y_IyzlSeOI36"
      },
      "source": [
        "## Other Applications\n",
        "\n",
        "### Programs that Need Lots of Flexiblity \n",
        "\n",
        "SOOP offer a high degree of flexibility in programming due to the mutability of symbolic objects. This not only enables developers to utilize partial or late binding, but also grants access to the power of rebinding. Program search is just one example of such usage. Additionally, other use cases like flexible function binding and direct manipulation demonstrate the versatility of symbolic objects. For more information on these examples, please refer to [Symbolic Functions](https://pyglove.readthedocs.io/en/latest/notebooks/intro/basics/symbolic_function.html) and [Interactive SVG](https://pyglove.readthedocs.io/en/latest/notebooks/python/interactive_svg.html)."
      ]
    },
    {
      "cell_type": "markdown",
      "metadata": {
        "id": "2QrQ-gP5L-Ps"
      },
      "source": [
        "### Representation-centric Systems\n",
        "\n",
        "Symbolic objects inherently serve as representations, simplifying representation-centric systems when used with SOOP. Machine learning systems are a prime example of such systems that typically rely on a separate configuration system, which is no longer required with PyGlove. For further details on PyGlove's application in machine learning, please refer to the [Symbolic Machine Learning](https://pyglove.readthedocs.io/en/latest/guide/ml/index.html) examples.\n"
      ]
    },
    {
      "cell_type": "markdown",
      "metadata": {
        "id": "-zLVMdkKQGrU"
      },
      "source": [
        "### More\n",
        "\n",
        "PyGlove offers a wide range of capabilities for you to discover, such as the ability to create [domain-specific languages](https://pyglove.readthedocs.io/en/latest/notebooks/python/sticky_notes.html) using symbolic placeholding and develop [context-aware components](https://pyglove.readthedocs.io/en/latest/notebooks/python/where_is_the_duck.html) that can seamlessly adjust to changes in object hierarchy. We are excited to see the innovative ways in which you utilize SOOP and PyGlove and look forward to learning from you."
      ]
    }
  ],
  "metadata": {
    "colab": {
      "provenance": []
    },
    "kernelspec": {
      "display_name": "Python 3",
      "name": "python3"
    },
    "language_info": {
      "name": "python"
    }
  },
  "nbformat": 4,
  "nbformat_minor": 0
}

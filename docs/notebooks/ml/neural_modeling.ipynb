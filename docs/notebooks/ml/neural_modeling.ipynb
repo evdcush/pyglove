{
  "cells": [
    {
      "cell_type": "markdown",
      "metadata": {
        "id": "DxL_vxdYoX_w"
      },
      "source": [
        "# Symbolic Neural Modeling\n",
        "\n",
        "[![Open in Colab](https://colab.research.google.com/assets/colab-badge.svg)](https://colab.research.google.com/github/google/pyglove/blob/main/docs/notebooks/ml/neural_modeling.ipynb)\n",
        "\n",
        "This notebook illustrates how to use PyGlove to symbolically manipulate Keras layers for neural modeling."
      ]
    },
    {
      "cell_type": "code",
      "execution_count": null,
      "metadata": {
        "id": "JwXE1YyrM6g4"
      },
      "outputs": [],
      "source": [
        "!pip install pyglove"
      ]
    },
    {
      "cell_type": "markdown",
      "metadata": {
        "id": "Aa7wXDTnMzTE"
      },
      "source": [
        "## Symbolizing Keras Layers\n",
        "\n",
        "Before we can manipulate the combination of Keras layers, we symbolize Keras layer classes via `pg.symbolize`."
      ]
    },
    {
      "cell_type": "code",
      "execution_count": 2,
      "metadata": {
        "executionInfo": {
          "elapsed": 7669,
          "status": "ok",
          "timestamp": 1657150609619,
          "user": {
            "displayName": "",
            "userId": ""
          },
          "user_tz": 420
        },
        "id": "cOtMvx3ooVVu"
      },
      "outputs": [],
      "source": [
        "import tensorflow as tf\n",
        "import pyglove as pg\n",
        "\n",
        "# Symbolize Keras layers.\n",
        "Sequential = pg.symbolize(tf.keras.Sequential)\n",
        "Conv2D = pg.symbolize(tf.keras.layers.Conv2D)\n",
        "Dense = pg.symbolize(tf.keras.layers.Dense)\n",
        "Flatten = pg.symbolize(tf.keras.layers.Flatten)\n",
        "ReLU = pg.symbolize(tf.keras.layers.ReLU)"
      ]
    },
    {
      "cell_type": "markdown",
      "metadata": {
        "id": "Mujl04Pupyj7"
      },
      "source": [
        "## Creating a Symbolic Model\n",
        "\n",
        "By using the symbolic layer classes, we can create a symbolic neural model for 2D image classification with 10 classes."
      ]
    },
    {
      "cell_type": "code",
      "execution_count": 3,
      "metadata": {
        "executionInfo": {
          "elapsed": 246,
          "status": "ok",
          "timestamp": 1657150610020,
          "user": {
            "displayName": "",
            "userId": ""
          },
          "user_tz": 420
        },
        "id": "TKD-vvswpAO4",
        "outputId": "34d58d63-f2d1-4be2-f29d-1b2d89b16ea8"
      },
      "outputs": [
        {
          "name": "stdout",
          "output_type": "stream",
          "text": [
            "Sequential(\n",
            "  layers = [\n",
            "    0 : Conv2D(\n",
            "      filters = 16,\n",
            "      kernel_size = (5, 5)\n",
            "    ),\n",
            "    1 : ReLU(),\n",
            "    2 : Conv2D(\n",
            "      filters = 32,\n",
            "      kernel_size = (3, 3)\n",
            "    ),\n",
            "    3 : ReLU(),\n",
            "    4 : Flatten(),\n",
            "    5 : Dense(\n",
            "      units = 10\n",
            "    )\n",
            "  ]\n",
            ")\n"
          ]
        }
      ],
      "source": [
        "def create_model():\n",
        "  return Sequential([\n",
        "     Conv2D(16, (5, 5)),\n",
        "     ReLU(),\n",
        "     Conv2D(32, (3, 3)),\n",
        "     ReLU(),\n",
        "     Flatten(),\n",
        "     Dense(10)\n",
        "  ])\n",
        "\n",
        "model = create_model()\n",
        "\n",
        "# The symbolized Keras layers can be printed in human readable form.\n",
        "# For clarity, we hide the default values of the layers.\n",
        "print(model.format(hide_default_values=True))"
      ]
    },
    {
      "cell_type": "markdown",
      "metadata": {
        "id": "kkywAI2XqCYv"
      },
      "source": [
        "## Manipulating Models"
      ]
    },
    {
      "cell_type": "markdown",
      "metadata": {
        "id": "6ROyHSRjqOPS"
      },
      "source": [
        "What if we want to upscale the model by increasing the number of filters by 2?"
      ]
    },
    {
      "cell_type": "code",
      "execution_count": 4,
      "metadata": {
        "executionInfo": {
          "elapsed": 55,
          "status": "ok",
          "timestamp": 1657150610191,
          "user": {
            "displayName": "",
            "userId": ""
          },
          "user_tz": 420
        },
        "id": "4VbR1SOpqMRl",
        "outputId": "78329c5e-c300-4b03-983a-87d2a031f92b"
      },
      "outputs": [
        {
          "name": "stdout",
          "output_type": "stream",
          "text": [
            "Sequential(\n",
            "  layers = [\n",
            "    0 : Conv2D(\n",
            "      filters = 32,\n",
            "      kernel_size = (5, 5)\n",
            "    ),\n",
            "    1 : ReLU(),\n",
            "    2 : Conv2D(\n",
            "      filters = 64,\n",
            "      kernel_size = (3, 3)\n",
            "    ),\n",
            "    3 : ReLU(),\n",
            "    4 : Flatten(),\n",
            "    5 : Dense(\n",
            "      units = 10\n",
            "    )\n",
            "  ]\n",
            ")\n"
          ]
        }
      ],
      "source": [
        "def double_width(k, v, p):\n",
        "  \"\"\"A rebind rule for doubling the filters for Conv2D layers.\n",
        "  \n",
        "  Args:\n",
        "    k: A `pg.KeyPath` object representing the location of current node.\n",
        "    v: The value of current node.\n",
        "    p: The parent of current node.\n",
        "\n",
        "  Returns:\n",
        "    The output value for current node.\n",
        "  \"\"\"\n",
        "  if isinstance(p, Conv2D) and k.key == 'filters':\n",
        "    return 2 * v\n",
        "  return v\n",
        "\n",
        "# Rebind allows the users to manipulate a symbolic object by\n",
        "# rules.\n",
        "print(model.rebind(double_width).format(hide_default_values=True))"
      ]
    },
    {
      "cell_type": "markdown",
      "metadata": {
        "id": "gYJlnBvYq0iA"
      },
      "source": [
        "What if we want to remove the `ReLU` activations?"
      ]
    },
    {
      "cell_type": "code",
      "execution_count": 5,
      "metadata": {
        "executionInfo": {
          "elapsed": 55,
          "status": "ok",
          "timestamp": 1657150610393,
          "user": {
            "displayName": "",
            "userId": ""
          },
          "user_tz": 420
        },
        "id": "CN7DBUCwqzhy",
        "outputId": "08a945e0-491a-4e7f-a4c3-f42a4551ae58"
      },
      "outputs": [
        {
          "name": "stdout",
          "output_type": "stream",
          "text": [
            "Sequential(\n",
            "  layers = [\n",
            "    0 : Conv2D(\n",
            "      filters = 32,\n",
            "      kernel_size = (5, 5)\n",
            "    ),\n",
            "    1 : Conv2D(\n",
            "      filters = 64,\n",
            "      kernel_size = (3, 3)\n",
            "    ),\n",
            "    2 : Flatten(),\n",
            "    3 : Dense(\n",
            "      units = 10\n",
            "    )\n",
            "  ]\n",
            ")\n"
          ]
        }
      ],
      "source": [
        "def remove_activations(k, v, p):\n",
        "  if isinstance(v, ReLU):\n",
        "    # `pg.MISSING_VALUE` is a placeholder for deleting a value from a container.\n",
        "    return pg.MISSING_VALUE\n",
        "  return v\n",
        "print(model.rebind(remove_activations).format(hide_default_values=True))"
      ]
    },
    {
      "cell_type": "markdown",
      "metadata": {
        "id": "MgOU7YzarMnp"
      },
      "source": [
        "What if we want to change the number of classes for the classification head from 10 to 100?"
      ]
    },
    {
      "cell_type": "code",
      "execution_count": 6,
      "metadata": {
        "executionInfo": {
          "elapsed": 55,
          "status": "ok",
          "timestamp": 1657150610559,
          "user": {
            "displayName": "",
            "userId": ""
          },
          "user_tz": 420
        },
        "id": "PBqRCJPorMFX",
        "outputId": "e7c8bbc1-14b8-41ee-ca96-ba0c449a9beb"
      },
      "outputs": [
        {
          "name": "stdout",
          "output_type": "stream",
          "text": [
            "Sequential(\n",
            "  layers = [\n",
            "    0 : Conv2D(\n",
            "      filters = 32,\n",
            "      kernel_size = (5, 5)\n",
            "    ),\n",
            "    1 : Conv2D(\n",
            "      filters = 64,\n",
            "      kernel_size = (3, 3)\n",
            "    ),\n",
            "    2 : Flatten(),\n",
            "    3 : Dense(\n",
            "      units = 100\n",
            "    )\n",
            "  ]\n",
            ")\n"
          ]
        }
      ],
      "source": [
        "# Query the last Dense layer in the model, and modify its units to 100.\n",
        "result = pg.query(model, where=lambda v: isinstance(v, Dense))\n",
        "classification_head_location = list(result.keys())[-1]\n",
        "model.rebind({\n",
        "    f'{classification_head_location}.units': 100\n",
        "})\n",
        "print(model.format(hide_default_values=True))"
      ]
    }
  ],
  "metadata": {
    "colab": {
      "collapsed_sections": [],
      "last_runtime": {
        "build_target": "//learning/deepmind/dm_python:dm_notebook3",
        "kind": "private"
      },
      "name": "Symbolic Neural Modeling",
      "provenance": [
        {
          "file_id": "1dQheUZHQmElAd2NfVii7EH8ALp5OjNx_",
          "timestamp": 1656183484244
        }
      ]
    },
    "kernelspec": {
      "display_name": "Python 3",
      "name": "python3"
    },
    "language_info": {
      "name": "python"
    }
  },
  "nbformat": 4,
  "nbformat_minor": 0
}
